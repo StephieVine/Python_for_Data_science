{
 "cells": [
  {
   "cell_type": "code",
   "execution_count": 1,
   "id": "c606a12b",
   "metadata": {},
   "outputs": [
    {
     "name": "stdout",
     "output_type": "stream",
     "text": [
      "{'first': 70}\n"
     ]
    }
   ],
   "source": [
    "#takes the last ocurence and executes\n",
    "my_dict = {'first': 50, 'first': 70}\n",
    "print(my_dict)"
   ]
  },
  {
   "cell_type": "code",
   "execution_count": 6,
   "id": "ff5e9400",
   "metadata": {},
   "outputs": [
    {
     "name": "stdout",
     "output_type": "stream",
     "text": [
      "{'first': 80, 'second': 80, 'third': 80}\n"
     ]
    }
   ],
   "source": [
    "#dictionary does not allow duplicate keys\n",
    "my_dict = {'first': 80, 'second': 80, 'third': 80}\n",
    "print(my_dict)"
   ]
  },
  {
   "cell_type": "code",
   "execution_count": 5,
   "id": "7e2085f6",
   "metadata": {},
   "outputs": [
    {
     "name": "stdout",
     "output_type": "stream",
     "text": [
      "80\n"
     ]
    }
   ],
   "source": [
    "#to access an item in a dictionary\n",
    "my_dict = {'first': 80, 'second': 80, 'third': 80}\n",
    "print(my_dict['third'])"
   ]
  },
  {
   "cell_type": "code",
   "execution_count": 7,
   "id": "c1c00ef9",
   "metadata": {},
   "outputs": [
    {
     "name": "stdout",
     "output_type": "stream",
     "text": [
      "{'first': 80, 'second': 80, 'third': 70}\n"
     ]
    }
   ],
   "source": [
    "#how to update a values in a dictonary\n",
    "my_dict = {'first': 80, 'second': 80, 'third': 80}\n",
    "my_dict['third'] = 70\n",
    "print(my_dict)\n"
   ]
  },
  {
   "cell_type": "code",
   "execution_count": 11,
   "id": "b1109723",
   "metadata": {},
   "outputs": [
    {
     "name": "stdout",
     "output_type": "stream",
     "text": [
      "{'Age': 29, 'Sex': 'Female', 'subjects': ['Biology', 'Chemistry', 'Mathematics']}\n",
      "['Biology', 'Chemistry', 'Mathematics']\n",
      "Values dict_values([29, 'Female', ['Biology', 'Chemistry', 'Mathematics']])\n",
      "keys dict_keys(['Age', 'Sex', 'subjects'])\n"
     ]
    }
   ],
   "source": [
    "#how to target a key in a dictionary\n",
    "new_dict = {'Age': 29, 'Sex': \"Female\", \"subjects\": ['Biology', 'Chemistry', \"Mathematics\"]}\n",
    "print(new_dict)\n",
    "print(new_dict['subjects'])\n",
    "dict_values = new_dict.values() #getting the values\n",
    "dict_values1 = new_dict.keys() #getting the keys\n",
    "print(\"Values\", dict_values)\n",
    "print(\"keys\", dict_values1)"
   ]
  },
  {
   "cell_type": "code",
   "execution_count": 12,
   "id": "6771d6bb",
   "metadata": {},
   "outputs": [
    {
     "name": "stdout",
     "output_type": "stream",
     "text": [
      "items tuple dict_items([('Age', 29), ('Sex', 'Female'), ('subjects', ['Biology', 'Chemistry', 'Mathematics'])])\n"
     ]
    }
   ],
   "source": [
    "#tuples prints key and item\n",
    "new_dict = {'Age': 29, 'Sex': \"Female\", \"subjects\": ['Biology', 'Chemistry', \"Mathematics\"]}\n",
    "dict_items = new_dict.items()\n",
    "print('items tuple', dict_items)"
   ]
  },
  {
   "cell_type": "code",
   "execution_count": 13,
   "id": "f8f98fe5",
   "metadata": {},
   "outputs": [
    {
     "name": "stdout",
     "output_type": "stream",
     "text": [
      "key = Age values = 29\n",
      "key = Sex values = Female\n",
      "key = subjects values = ['Biology', 'Chemistry', 'Mathematics']\n"
     ]
    }
   ],
   "source": [
    "new_dict = {'Age': 29, 'Sex': \"Female\", \"subjects\": ['Biology', 'Chemistry', \"Mathematics\"]}\n",
    "for item in new_dict.items():\n",
    "    print('key =', item[0], \"values =\", item[1])"
   ]
  },
  {
   "cell_type": "code",
   "execution_count": 16,
   "id": "f0e0aa5d",
   "metadata": {},
   "outputs": [
    {
     "name": "stdout",
     "output_type": "stream",
     "text": [
      "cart total cost = 14000\n"
     ]
    }
   ],
   "source": [
    "shopping = [{'name': 'fish', 'quantity': 2, 'price': 5000}, {'name': \"shoe\", 'quantity': 2, \"price\": 2000, 'color': 'pink'}]\n",
    "total = 0\n",
    "for item in shopping:\n",
    "    cost = item['price'] * item['quantity']\n",
    "    total += cost\n",
    "print('cart total cost =', total)"
   ]
  },
  {
   "cell_type": "code",
   "execution_count": 18,
   "id": "2811062e",
   "metadata": {},
   "outputs": [
    {
     "name": "stdout",
     "output_type": "stream",
     "text": [
      "Sam Scored 204\n",
      "Willy Scored 174\n",
      "Ade Scored 164\n",
      "[{'name': 'Sam', 'Biology': 60, 'Physics': 64, 'Maths': 80, 'total': 204}, {'name': 'Willy', 'Biology': 70, 'Physics': 44, 'Maths': 60, 'total': 174}, {'name': 'Ade', 'Biology': 30, 'Physics': 84, 'Maths': 50, 'total': 164}]\n"
     ]
    }
   ],
   "source": [
    "# Calculate the total score obtained by each student using the data in the following list of dictionaries: \n",
    "data = [{\"name\": \"Sam\", \"Biology\": 60, \"Physics\": 64, \"Maths\": 80}, {\"name\": \"Willy\", \"Biology\": 70, \"Physics\": 44, \"Maths\": 60}, {\"name\": \"Ade\", \"Biology\": 30, \"Physics\": 84, \"Maths\": 50}]\n",
    "for item in data:\n",
    "    total_score = item['Biology'] + item[\"Physics\"] + item[\"Maths\"]\n",
    "    item['total'] = total_score\n",
    "    print(item['name'], \"Scored\", total_score)\n",
    "print(data)"
   ]
  },
  {
   "cell_type": "code",
   "execution_count": 19,
   "id": "181f54c0",
   "metadata": {},
   "outputs": [
    {
     "name": "stdout",
     "output_type": "stream",
     "text": [
      "Difference {'Geography', 'Literature'}\n"
     ]
    }
   ],
   "source": [
    "#set\n",
    "#attributes of a set: unordered, curly braces, unindexed and no duplicate\n",
    "#Difference\n",
    "set_a = {'Maths', 'Literature', 'Geography'}\n",
    "set_b = {\"Maths\", \"English\", \"Physics\", 'Chemistry'}\n",
    "set_difference = set_a.difference(set_b)\n",
    "print('Difference', set_difference)"
   ]
  },
  {
   "cell_type": "code",
   "execution_count": 23,
   "id": "dd4e0a6c",
   "metadata": {},
   "outputs": [
    {
     "name": "stdout",
     "output_type": "stream",
     "text": [
      "union {'Physics', 'Literature', 'English', 'Geography', 'Chemistry', 'Maths'}\n",
      "******Intersection******\n",
      "intersection {'Chemistry', 'Maths'}\n"
     ]
    }
   ],
   "source": [
    "#union\n",
    "set_a = {'Maths', 'Literature', 'Geography', 'Chemistry'}\n",
    "set_b = {\"Maths\", \"English\", \"Physics\", 'Chemistry'}\n",
    "set_union = set_a.union(set_b)\n",
    "print('union', set_union)\n",
    "\n",
    "#intersection\n",
    "print(\"******Intersection******\")\n",
    "set_intersection = set_a.intersection(set_b)\n",
    "print(\"intersection\", set_intersection)"
   ]
  },
  {
   "cell_type": "code",
   "execution_count": 21,
   "id": "2d1092c2",
   "metadata": {},
   "outputs": [
    {
     "name": "stdout",
     "output_type": "stream",
     "text": [
      "English\n",
      "Chemistry\n",
      "Maths\n",
      "Physics\n"
     ]
    }
   ],
   "source": [
    "set_b = {\"Maths\", \"English\", \"Physics\", 'Chemistry'}\n",
    "for i in set_b:\n",
    "    print(i)"
   ]
  },
  {
   "cell_type": "code",
   "execution_count": 27,
   "id": "9aa8a404",
   "metadata": {},
   "outputs": [
    {
     "name": "stdout",
     "output_type": "stream",
     "text": [
      "*****Difference****\n",
      "{'David', 'Chisom'}\n",
      "*****Union*****\n",
      "{'Alake', 'Brown', 'Chisom', 'Sam', 'Ngozi', 'David', 'Ade'}\n",
      "****Intersection*****\n",
      "{'Ngozi', 'Sam'}\n"
     ]
    }
   ],
   "source": [
    "# write a program to output the difference, union, and intersection for the following set: \n",
    "set1 = {\"Sam\", \"David\", \"Chisom\", \"Ngozi\"}\n",
    "set2 = {\"Alake\", \"Ade\", \"Ngozi\", \"Brown\", \"Sam\"}\n",
    "\n",
    "#difference\n",
    "print(\"*****Difference****\")\n",
    "set_difference = set1.difference(set2)\n",
    "print(set_difference)\n",
    "\n",
    "#union\n",
    "print(\"*****Union*****\")\n",
    "set_union = set1.union(set2)\n",
    "print(set_union)\n",
    "\n",
    "#intersection\n",
    "print(\"****Intersection*****\")\n",
    "set_intersection = set1.intersection(set2)\n",
    "print(set_intersection)"
   ]
  },
  {
   "cell_type": "code",
   "execution_count": 31,
   "id": "aef82fcb",
   "metadata": {},
   "outputs": [
    {
     "name": "stdout",
     "output_type": "stream",
     "text": [
      "['orange', 'banana', 'Cashew']\n",
      "('Orange', 'banana', 'mango')\n",
      "Orange\n",
      "banana\n",
      "mango\n"
     ]
    }
   ],
   "source": [
    "#Tuple\n",
    "mytuple = ('Orange', 'banana', 'mango') #tuple is immutable\n",
    "mylist = ['orange', 'banana', 'mango']\n",
    "mystr = 'Orange Banana mango'\n",
    "\n",
    "# mytuple[2] = 'Cashew'\n",
    "mylist[2] = 'Cashew'\n",
    "print(mylist)\n",
    "print(mytuple)\n",
    "# mytuple.remove(2) #can't remove an item in a tuple\n",
    "for item in mytuple:\n",
    "    print(item)"
   ]
  },
  {
   "cell_type": "code",
   "execution_count": 35,
   "id": "1d8f934d",
   "metadata": {},
   "outputs": [
    {
     "name": "stdout",
     "output_type": "stream",
     "text": [
      "9\n",
      "0\n",
      "3\n",
      "[9, 0, 3]\n",
      "2\n",
      "4\n",
      "[2, 4]\n",
      "16\n",
      "34\n",
      "8\n",
      "[16, 34, 8]\n"
     ]
    }
   ],
   "source": [
    "#to extract individual item from a list\n",
    "list_in_list = [13, 5, 7, 8, 9, 1, [9, 0, 3], [2,4], [16, 34, 8]]\n",
    "for num in list_in_list:\n",
    "    if type(num) == type([]):\n",
    "        for i in num:\n",
    "            print(i)\n",
    "        else:\n",
    "            print(num)"
   ]
  },
  {
   "cell_type": "code",
   "execution_count": 34,
   "id": "bae30496",
   "metadata": {},
   "outputs": [
    {
     "name": "stdout",
     "output_type": "stream",
     "text": [
      "<class 'list'>\n"
     ]
    }
   ],
   "source": [
    "list1 = [1,2]\n",
    "print(type(list1))"
   ]
  },
  {
   "cell_type": "code",
   "execution_count": null,
   "id": "bcedefcc",
   "metadata": {},
   "outputs": [],
   "source": []
  }
 ],
 "metadata": {
  "kernelspec": {
   "display_name": "Python 3 (ipykernel)",
   "language": "python",
   "name": "python3"
  },
  "language_info": {
   "codemirror_mode": {
    "name": "ipython",
    "version": 3
   },
   "file_extension": ".py",
   "mimetype": "text/x-python",
   "name": "python",
   "nbconvert_exporter": "python",
   "pygments_lexer": "ipython3",
   "version": "3.11.3"
  }
 },
 "nbformat": 4,
 "nbformat_minor": 5
}
