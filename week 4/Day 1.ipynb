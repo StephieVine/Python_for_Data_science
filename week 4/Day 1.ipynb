{
 "cells": [
  {
   "cell_type": "code",
   "execution_count": 1,
   "id": "58946965",
   "metadata": {},
   "outputs": [
    {
     "name": "stdout",
     "output_type": "stream",
     "text": [
      "[2, 4, 5, 7, 8, 9, 2, 9]\n"
     ]
    }
   ],
   "source": [
    "#working with list data structure\n",
    "my_list = [2,4,5,7,8,9,2]\n",
    "\n",
    "my_list.append(9)\n",
    "\n",
    "print(my_list)"
   ]
  },
  {
   "cell_type": "code",
   "execution_count": 2,
   "id": "b1a1ecdc",
   "metadata": {},
   "outputs": [
    {
     "name": "stdout",
     "output_type": "stream",
     "text": [
      "[4, 5, 7, 8, 9, 2]\n"
     ]
    }
   ],
   "source": [
    "#working with list data structure\n",
    "my_list = [2,4,5,7,8,9,2]\n",
    "\n",
    "my_list.remove(2) #removes\n",
    "print(my_list)"
   ]
  },
  {
   "cell_type": "code",
   "execution_count": 5,
   "id": "3f3f75c0",
   "metadata": {},
   "outputs": [
    {
     "name": "stdout",
     "output_type": "stream",
     "text": [
      "2\n"
     ]
    }
   ],
   "source": [
    "#working with list data structure\n",
    "my_list = [2,4,5,7,8,9,2]\n",
    "\n",
    "\n",
    "print(my_list.count(2))\n",
    "\n"
   ]
  },
  {
   "cell_type": "code",
   "execution_count": 12,
   "id": "4c373251",
   "metadata": {},
   "outputs": [
    {
     "ename": "TypeError",
     "evalue": "list.copy() takes no arguments (1 given)",
     "output_type": "error",
     "traceback": [
      "\u001b[1;31m---------------------------------------------------------------------------\u001b[0m",
      "\u001b[1;31mTypeError\u001b[0m                                 Traceback (most recent call last)",
      "Cell \u001b[1;32mIn[12], line 3\u001b[0m\n\u001b[0;32m      1\u001b[0m \u001b[38;5;66;03m#working with list data structure\u001b[39;00m\n\u001b[0;32m      2\u001b[0m my_list \u001b[38;5;241m=\u001b[39m [\u001b[38;5;241m2\u001b[39m,\u001b[38;5;241m4\u001b[39m,\u001b[38;5;241m5\u001b[39m,\u001b[38;5;241m7\u001b[39m,\u001b[38;5;241m8\u001b[39m,\u001b[38;5;241m9\u001b[39m,\u001b[38;5;241m2\u001b[39m]\n\u001b[1;32m----> 3\u001b[0m my_list\u001b[38;5;241m.\u001b[39mcopy(\u001b[38;5;241m9\u001b[39m)\n\u001b[0;32m      4\u001b[0m \u001b[38;5;28mprint\u001b[39m(my_list)\n",
      "\u001b[1;31mTypeError\u001b[0m: list.copy() takes no arguments (1 given)"
     ]
    }
   ],
   "source": [
    "#working with list data structure\n",
    "my_list = [2,4,5,7,8,9,2]\n",
    "my_list.copy(9)\n",
    "print(my_list)"
   ]
  },
  {
   "cell_type": "code",
   "execution_count": 13,
   "id": "1344c721",
   "metadata": {},
   "outputs": [
    {
     "name": "stdout",
     "output_type": "stream",
     "text": [
      "2 appeared 2 times\n",
      "4 appeared 1 times\n",
      "5 appeared 1 times\n",
      "7 appeared 1 times\n",
      "8 appeared 1 times\n",
      "9 appeared 1 times\n",
      "2 appeared 2 times\n"
     ]
    }
   ],
   "source": [
    "#working with list data structure\n",
    "my_list = [2,4,5,7,8,9,2]\n",
    "for i in my_list:\n",
    "    print(i, \"appeared\", my_list.count(i), \"times\")\n",
    "        \n"
   ]
  },
  {
   "cell_type": "code",
   "execution_count": 14,
   "id": "2dfb1b83",
   "metadata": {},
   "outputs": [
    {
     "name": "stdout",
     "output_type": "stream",
     "text": [
      "[2, 4, 5, 7, 8, 9, 2]\n",
      "[2, 4, 5, 7, 8, 9, 2, 9]\n"
     ]
    }
   ],
   "source": [
    "#working with list data structure #copy\n",
    "my_list = [2,4,5,7,8,9,2]\n",
    "copy_list = my_list.copy()\n",
    "my_list.append(9)\n",
    "\n",
    "print(copy_list)\n",
    "print(my_list)"
   ]
  },
  {
   "cell_type": "code",
   "execution_count": 21,
   "id": "08d813fe",
   "metadata": {},
   "outputs": [
    {
     "name": "stdout",
     "output_type": "stream",
     "text": [
      "[5, 8, 9, 3, 4, 5, 7, [4, 5], [9, 0], 9]\n"
     ]
    }
   ],
   "source": [
    "#working with list data structure #extended\n",
    "my_list = [2,4,5,7,8,9,2]\n",
    "my_list2 = [5, 8, 9]\n",
    "list3= [3,4,5,7,[4,5],[9,0],9]\n",
    "# my_list2.extend(my_list)\n",
    "my_list2.extend(list3)\n",
    "print(my_list2)\n"
   ]
  },
  {
   "cell_type": "code",
   "execution_count": 28,
   "id": "e6fdfe19",
   "metadata": {},
   "outputs": [
    {
     "name": "stdout",
     "output_type": "stream",
     "text": [
      "2\n",
      "6\n"
     ]
    }
   ],
   "source": [
    "list3= [3,4,5,7,[4,5],[9,0],2]\n",
    "my_list1 = [2,4,5,7,8,9,2]\n",
    "number = 5\n",
    "number1 = 2\n",
    "for i in my_list1:\n",
    "    for j in list3:\n",
    "        if i == number:\n",
    "            if j == number1:\n",
    "                print(my_list1.index(i))\n",
    "                print(list3.index(j))\n",
    "                \n",
    "        \n",
    "        \n"
   ]
  },
  {
   "cell_type": "code",
   "execution_count": 36,
   "id": "69736aa0",
   "metadata": {},
   "outputs": [
    {
     "name": "stdout",
     "output_type": "stream",
     "text": [
      "[]\n"
     ]
    }
   ],
   "source": [
    "#clears the elements in item\n",
    "list3= [3,4,5,7,[4,5],[9,0],2]\n",
    "\n",
    "list3.clear()\n",
    "\n",
    "print(list3)"
   ]
  },
  {
   "cell_type": "code",
   "execution_count": 35,
   "id": "060170d9",
   "metadata": {},
   "outputs": [
    {
     "name": "stdout",
     "output_type": "stream",
     "text": [
      "[3, 4, 7, [4, 5], [9, 0], 2]\n"
     ]
    }
   ],
   "source": [
    "#pop speicifes the idex you want to remove\n",
    "list3= [3,4,5,7,[4,5],[9,0],2]\n",
    "list3.pop(2)\n",
    "print(list3)"
   ]
  },
  {
   "cell_type": "code",
   "execution_count": 43,
   "id": "76827b8f",
   "metadata": {},
   "outputs": [
    {
     "name": "stdout",
     "output_type": "stream",
     "text": [
      "[7, 5, 4, 3, 2]\n",
      "[2, 3, 4, 5, 7]\n"
     ]
    }
   ],
   "source": [
    "#sort:sorts the elements in the order of magnitude. in ascending or descending\n",
    "list3= [3,4,5,7,2]\n",
    "list4= [3,4,5,7,2]\n",
    "list3.sort()\n",
    "list3.sort(reverse=True)\n",
    "list4.sort(reverse=False)\n",
    "print(list3) #reverse descending\n",
    "print(list4) #ascending order"
   ]
  },
  {
   "cell_type": "code",
   "execution_count": 44,
   "id": "9ec790f8",
   "metadata": {},
   "outputs": [
    {
     "name": "stdout",
     "output_type": "stream",
     "text": [
      "[2, 7, 5, 4, 3]\n"
     ]
    }
   ],
   "source": [
    "list3= [3,4,5,7,2]\n",
    "new_list1 = list3.copy()\n",
    "list3.sort(reverse=False)\n",
    "print(new_list1[::-1])\n"
   ]
  },
  {
   "cell_type": "code",
   "execution_count": 48,
   "id": "a3da2ad7",
   "metadata": {},
   "outputs": [
    {
     "name": "stdout",
     "output_type": "stream",
     "text": [
      "[8, 64, 125, 343, 512]\n"
     ]
    }
   ],
   "source": [
    "#create a new list from a list of numbers, whose content is the square of each item in the original list\n",
    "list1 = [2,4,5,7,8]\n",
    "list2= []\n",
    "for x in list1:\n",
    "    list2.append(x**3)\n",
    "print(list2)"
   ]
  },
  {
   "cell_type": "code",
   "execution_count": 47,
   "id": "c1b9d638",
   "metadata": {},
   "outputs": [
    {
     "name": "stdout",
     "output_type": "stream",
     "text": [
      "None\n",
      "None\n",
      "None\n",
      "None\n",
      "None\n"
     ]
    }
   ],
   "source": [
    "#create a new list from a list of numbers, whose content is the square of each item in the original list\n",
    "list1 = [2,4,5,7,8]\n",
    "list2= []\n",
    "for x in list1:\n",
    "    print(list2.append(x**2))"
   ]
  },
  {
   "cell_type": "code",
   "execution_count": 49,
   "id": "5e656e2e",
   "metadata": {},
   "outputs": [
    {
     "name": "stdout",
     "output_type": "stream",
     "text": [
      "[8, 64, 125, 343, 729]\n"
     ]
    }
   ],
   "source": [
    "list1 = [2,4,5,7,9]\n",
    "list2=[x ]\n",
    "for x in list1:\n",
    "    list2.append(x**3)\n",
    "print(list2)"
   ]
  },
  {
   "cell_type": "code",
   "execution_count": null,
   "id": "1fa597fa",
   "metadata": {},
   "outputs": [],
   "source": [
    "list1 = [2,4,5,7,9]\n",
    "list2 = [x**3 for x in list1]\n",
    "print(list2)"
   ]
  },
  {
   "cell_type": "code",
   "execution_count": 51,
   "id": "2e109c56",
   "metadata": {},
   "outputs": [
    {
     "name": "stdout",
     "output_type": "stream",
     "text": [
      "[(1, 1), (3, 3)]\n"
     ]
    }
   ],
   "source": [
    "#nested for loop\n",
    "\n",
    "combs = []\n",
    "list1 = [1,2,3]\n",
    "list2 = [3,1,4]\n",
    "\n",
    "for x in list1:\n",
    "    for y in list2:\n",
    "        if x == y:\n",
    "            combs.append((x,y))\n",
    "print(combs)"
   ]
  },
  {
   "cell_type": "code",
   "execution_count": 52,
   "id": "70599968",
   "metadata": {},
   "outputs": [
    {
     "name": "stdout",
     "output_type": "stream",
     "text": [
      "[(1, 3), (1, 4), (2, 3), (2, 1), (2, 4), (3, 1), (3, 4)]\n"
     ]
    }
   ],
   "source": [
    "#nested for loop\n",
    "\n",
    "combs = []\n",
    "list1 = [1,2,3]\n",
    "list2 = [3,1,4]\n",
    "\n",
    "for x in list1:\n",
    "    for y in list2:\n",
    "        if x != y:\n",
    "            combs.append((x,y))\n",
    "print(combs)"
   ]
  },
  {
   "cell_type": "code",
   "execution_count": 53,
   "id": "b8395535",
   "metadata": {},
   "outputs": [
    {
     "name": "stdout",
     "output_type": "stream",
     "text": [
      "[(1, 4), (1, 6), (1, 7), (3, 4), (3, 6), (3, 7), (5, 4), (5, 6), (5, 7)]\n"
     ]
    }
   ],
   "source": [
    "#list comprehension version of nested for loop\n",
    "combs = [(x,y) for x in [1,3,5] for y in [4,6,7] if x != y]\n",
    "print(combs)"
   ]
  },
  {
   "cell_type": "code",
   "execution_count": null,
   "id": "5f606e29",
   "metadata": {},
   "outputs": [],
   "source": []
  }
 ],
 "metadata": {
  "kernelspec": {
   "display_name": "Python 3 (ipykernel)",
   "language": "python",
   "name": "python3"
  },
  "language_info": {
   "codemirror_mode": {
    "name": "ipython",
    "version": 3
   },
   "file_extension": ".py",
   "mimetype": "text/x-python",
   "name": "python",
   "nbconvert_exporter": "python",
   "pygments_lexer": "ipython3",
   "version": "3.11.3"
  }
 },
 "nbformat": 4,
 "nbformat_minor": 5
}
