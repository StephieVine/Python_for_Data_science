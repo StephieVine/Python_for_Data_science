{
 "cells": [
  {
   "cell_type": "code",
   "execution_count": 1,
   "id": "c909faef",
   "metadata": {},
   "outputs": [
    {
     "name": "stdout",
     "output_type": "stream",
     "text": [
      "0    1.0\n",
      "1    1.5\n",
      "2    2.0\n",
      "3    2.0\n",
      "dtype: float64\n"
     ]
    }
   ],
   "source": [
    "import numpy as np\n",
    "import pandas as pd\n",
    "\n",
    "# df = pd.Series([1, np.nan, 2, None])\n",
    "df = pd.Series([1, 1.5, 2, 2])\n",
    "print(df)\n",
    "# print(df.isnull())\n",
    "# print(df.notnull())\n",
    "# df = df.dropna()\n",
    "# df = df.fillna(0)\n",
    "# df = df.fillna(method='ffill')#fforward  fill\n",
    "df = df.fillna(method='bfill') #backward fill"
   ]
  },
  {
   "cell_type": "code",
   "execution_count": 11,
   "id": "71bc0634",
   "metadata": {},
   "outputs": [
    {
     "name": "stdout",
     "output_type": "stream",
     "text": [
      "   one  two  three\n",
      "a  1.0  1.0    3.0\n",
      "b  2.0  2.0    5.0\n",
      "c  3.0  3.0    6.0\n",
      "d  4.0  4.0    7.0\n",
      "e  8.0  8.0    8.0\n"
     ]
    }
   ],
   "source": [
    "data_dict = {'one': pd.Series([1,2,3,4], index=['a','b', 'c', 'd']), 'two': pd.Series([1,2,3,4], index=['a','b', 'c', 'd']), 'three': pd.Series([3, 5, 6, 7, 8], index=['a','b', 'c', 'd', 'e'])}\n",
    "\n",
    "df = pd.DataFrame(data_dict)\n",
    "# print(df)\n",
    "\n",
    "# df['four'] = df['one'] * df['two'] * df['three']\n",
    "# # print(df)\n",
    "\n",
    "# df = df.dropna() #dropping NAN\n",
    "# df = df.fillna(method='ffill')#backward fill\n",
    "df = df.fillna(method='bfill', axis=1) #backward fill\n",
    "print(df)"
   ]
  },
  {
   "cell_type": "code",
   "execution_count": 15,
   "id": "9a216292",
   "metadata": {},
   "outputs": [
    {
     "ename": "TypeError",
     "evalue": "'builtin_function_or_method' object is not subscriptable",
     "output_type": "error",
     "traceback": [
      "\u001b[1;31m---------------------------------------------------------------------------\u001b[0m",
      "\u001b[1;31mTypeError\u001b[0m                                 Traceback (most recent call last)",
      "Cell \u001b[1;32mIn[15], line 1\u001b[0m\n\u001b[1;32m----> 1\u001b[0m arr \u001b[38;5;241m=\u001b[39mnp\u001b[38;5;241m.\u001b[39marray[[\u001b[38;5;241m1\u001b[39m,\u001b[38;5;241m2\u001b[39m],[\u001b[38;5;241m2\u001b[39m,\u001b[38;5;241m4\u001b[39m]] \n\u001b[0;32m      2\u001b[0m \u001b[38;5;28mprint\u001b[39m(arr\u001b[38;5;241m.\u001b[39mravel())\n",
      "\u001b[1;31mTypeError\u001b[0m: 'builtin_function_or_method' object is not subscriptable"
     ]
    }
   ],
   "source": [
    "arr =np.array[[1,2],[2,4]] \n",
    "print(arr.ravel())"
   ]
  },
  {
   "cell_type": "code",
   "execution_count": 13,
   "id": "6223150a",
   "metadata": {},
   "outputs": [
    {
     "name": "stdout",
     "output_type": "stream",
     "text": [
      "[2. 3. 4. 5.]\n"
     ]
    }
   ],
   "source": [
    "#numpy linspace\n",
    "arr = np.linspace(2,5,4) \n",
    "print(arr)\n",
    "print(arr.size) #how many items you have in an array"
   ]
  },
  {
   "cell_type": "code",
   "execution_count": null,
   "id": "3ef70af9",
   "metadata": {},
   "outputs": [],
   "source": []
  }
 ],
 "metadata": {
  "kernelspec": {
   "display_name": "Python 3 (ipykernel)",
   "language": "python",
   "name": "python3"
  },
  "language_info": {
   "codemirror_mode": {
    "name": "ipython",
    "version": 3
   },
   "file_extension": ".py",
   "mimetype": "text/x-python",
   "name": "python",
   "nbconvert_exporter": "python",
   "pygments_lexer": "ipython3",
   "version": "3.11.3"
  }
 },
 "nbformat": 4,
 "nbformat_minor": 5
}
