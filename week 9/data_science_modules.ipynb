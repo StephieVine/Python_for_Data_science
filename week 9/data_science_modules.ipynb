{
 "cells": [
  {
   "cell_type": "code",
   "execution_count": 7,
   "id": "54be871a",
   "metadata": {},
   "outputs": [
    {
     "name": "stdout",
     "output_type": "stream",
     "text": [
      "<class 'numpy.ndarray'>\n",
      "Array size 4\n",
      "Array dtype int32\n",
      "Array shape (4,)\n",
      "Array n dinmension 1\n"
     ]
    }
   ],
   "source": [
    "import numpy as np\n",
    "\n",
    "np_array = np.array([1,2,4,6])\n",
    "print(type(np_array))\n",
    "print('Array size', np_array.size)\n",
    "print('Array dtype', np_array.dtype)\n",
    "print('Array shape', np_array.shape)\n",
    "print('Array n dinmension', np_array.ndim)"
   ]
  },
  {
   "cell_type": "code",
   "execution_count": 37,
   "id": "d8b4df92",
   "metadata": {},
   "outputs": [
    {
     "name": "stdout",
     "output_type": "stream",
     "text": [
      "[[ 2  4  6]\n",
      " [ 8 10 12]\n",
      " [14 16 18]]\n",
      "(3, 3)\n",
      "9\n",
      "Array n dinmension 2\n"
     ]
    }
   ],
   "source": [
    "arr_array = np.arange(2, 20, 2)\n",
    "# arr_array = np.arange(2, 20)\n",
    "# print(arr_array)\n",
    "\n",
    "#to convert to look like matrix 3x3\n",
    "arr_array=arr_array.reshape(3,3)\n",
    "print(arr_array)# to shape in 3X3\n",
    "print(arr_array.shape) #to print shape\n",
    "print(arr_array.size) #size of the item on the array\n",
    "print('Array n dinmension', arr_array.ndim)"
   ]
  },
  {
   "cell_type": "code",
   "execution_count": 11,
   "id": "27745207",
   "metadata": {},
   "outputs": [
    {
     "name": "stdout",
     "output_type": "stream",
     "text": [
      "[ 2  4  6  8 10 12 14 16 18 20 22 24 26 28 30 32 34 36 38 40 42 44 46 48]\n",
      "(24,)\n",
      "24\n",
      "Array n dimension 1\n",
      "*******\n",
      "---After reshape-----***\n",
      "[ 2  4  6  8 10 12 14 16 18 20 22 24 26 28 30 32 34 36 38 40 42 44 46 48]\n"
     ]
    },
    {
     "ename": "NameError",
     "evalue": "name 'arr_arry_reshaped' is not defined",
     "output_type": "error",
     "traceback": [
      "\u001b[1;31m---------------------------------------------------------------------------\u001b[0m",
      "\u001b[1;31mNameError\u001b[0m                                 Traceback (most recent call last)",
      "Cell \u001b[1;32mIn[11], line 13\u001b[0m\n\u001b[0;32m     11\u001b[0m \u001b[38;5;28mprint\u001b[39m(\u001b[38;5;124m'\u001b[39m\u001b[38;5;124m*******\u001b[39m\u001b[38;5;130;01m\\n\u001b[39;00m\u001b[38;5;124m---After reshape-----***\u001b[39m\u001b[38;5;124m'\u001b[39m)\n\u001b[0;32m     12\u001b[0m \u001b[38;5;28mprint\u001b[39m(arr_array)\n\u001b[1;32m---> 13\u001b[0m \u001b[38;5;28mprint\u001b[39m(\u001b[38;5;124m'\u001b[39m\u001b[38;5;124mArray n dimension\u001b[39m\u001b[38;5;124m'\u001b[39m, arr_arry_reshaped\u001b[38;5;241m.\u001b[39mndim)\n",
      "\u001b[1;31mNameError\u001b[0m: name 'arr_arry_reshaped' is not defined"
     ]
    }
   ],
   "source": [
    "arr_array = np.arange(2, 37, 2)\n",
    "# arr_array = np.arange(2, 20)\n",
    "# print(arr_array)\n",
    "\n",
    "# #to convert to look like matrix 3x3\n",
    "arr_array=arr_array.reshape(3,3,2)\n",
    "print(arr_array)# to shape in 3X3\n",
    "print(arr_array.shape) #to print shape\n",
    "print(arr_array.size) #size of the item on the array\n",
    "# print('Array n dimension', arr_array.ndim)\n",
    "# print('*******\\n---After reshape-----***')\n",
    "# print(arr_array)\n",
    "# print('Array n dimension', arr_arry_reshaped.ndim)\n"
   ]
  },
  {
   "cell_type": "code",
   "execution_count": 19,
   "id": "0ae4a15b",
   "metadata": {},
   "outputs": [
    {
     "ename": "ValueError",
     "evalue": "cannot reshape array of size 24 into shape (3,3)",
     "output_type": "error",
     "traceback": [
      "\u001b[1;31m---------------------------------------------------------------------------\u001b[0m",
      "\u001b[1;31mValueError\u001b[0m                                Traceback (most recent call last)",
      "Cell \u001b[1;32mIn[19], line 6\u001b[0m\n\u001b[0;32m      1\u001b[0m arr_array \u001b[38;5;241m=\u001b[39m np\u001b[38;5;241m.\u001b[39marange(\u001b[38;5;241m1\u001b[39m, \u001b[38;5;241m25\u001b[39m)\n\u001b[0;32m      2\u001b[0m \u001b[38;5;66;03m# arr_array = np.arange(2, 20)\u001b[39;00m\n\u001b[0;32m      3\u001b[0m \u001b[38;5;66;03m# print(arr_array)\u001b[39;00m\n\u001b[0;32m      4\u001b[0m \n\u001b[0;32m      5\u001b[0m \u001b[38;5;66;03m#to convert to look like matrix 3x3\u001b[39;00m\n\u001b[1;32m----> 6\u001b[0m arr_array\u001b[38;5;241m=\u001b[39marr_array\u001b[38;5;241m.\u001b[39mreshape(\u001b[38;5;241m3\u001b[39m,\u001b[38;5;241m3\u001b[39m)\n\u001b[0;32m      7\u001b[0m \u001b[38;5;28mprint\u001b[39m(arr_array)\u001b[38;5;66;03m# to shape in 3X3\u001b[39;00m\n\u001b[0;32m      8\u001b[0m \u001b[38;5;28mprint\u001b[39m(arr_array\u001b[38;5;241m.\u001b[39mshape) \u001b[38;5;66;03m#to print shape\u001b[39;00m\n",
      "\u001b[1;31mValueError\u001b[0m: cannot reshape array of size 24 into shape (3,3)"
     ]
    }
   ],
   "source": [
    "arr_array = np.arange(1, 25)\n",
    "# arr_array = np.arange(2, 20)\n",
    "# print(arr_array)\n",
    "\n",
    "#to convert to look like matrix 3x3\n",
    "arr_array=arr_array.reshape(3,3)\n",
    "print(arr_array)# to shape in 3X3\n",
    "print(arr_array.shape) #to print shape\n",
    "print(arr_array.size) #size of the item on the array\n",
    "# print('Array n dinmension', arr_array.ndim)"
   ]
  },
  {
   "cell_type": "code",
   "execution_count": 53,
   "id": "c5384cf9",
   "metadata": {},
   "outputs": [
    {
     "name": "stdout",
     "output_type": "stream",
     "text": [
      "[ 3  6  9 12 15 18 21 24 27 30 33 36 39 42 45 48 51 54 57 60 63 66 69 72]\n"
     ]
    },
    {
     "ename": "ValueError",
     "evalue": "cannot reshape array of size 24 into shape (3,3,3)",
     "output_type": "error",
     "traceback": [
      "\u001b[1;31m---------------------------------------------------------------------------\u001b[0m",
      "\u001b[1;31mValueError\u001b[0m                                Traceback (most recent call last)",
      "Cell \u001b[1;32mIn[53], line 6\u001b[0m\n\u001b[0;32m      3\u001b[0m \u001b[38;5;28mprint\u001b[39m(arr_array)\n\u001b[0;32m      5\u001b[0m \u001b[38;5;66;03m# #to convert to look like matrix 3x3\u001b[39;00m\n\u001b[1;32m----> 6\u001b[0m arr_array\u001b[38;5;241m=\u001b[39marr_array\u001b[38;5;241m.\u001b[39mreshape(\u001b[38;5;241m3\u001b[39m,\u001b[38;5;241m3\u001b[39m,\u001b[38;5;241m3\u001b[39m)\n\u001b[0;32m      7\u001b[0m \u001b[38;5;28mprint\u001b[39m(arr_array)\u001b[38;5;66;03m# to shape in 3X3\u001b[39;00m\n\u001b[0;32m      8\u001b[0m \u001b[38;5;28mprint\u001b[39m(arr_array\u001b[38;5;241m.\u001b[39mshape) \u001b[38;5;66;03m#to print shape\u001b[39;00m\n",
      "\u001b[1;31mValueError\u001b[0m: cannot reshape array of size 24 into shape (3,3,3)"
     ]
    }
   ],
   "source": [
    "arr_array = np.arange(3, 73, 3)\n",
    "# arr_array = np.arange(2, 20)\n",
    "print(arr_array)\n",
    "\n",
    "# #to convert to look like matrix 3x3\n",
    "arr_array=arr_array.reshape(3,3,3)\n",
    "print(arr_array)# to shape in 3X3\n",
    "print(arr_array.shape) #to print shape\n",
    "print(arr_array.size) #size of the item on the array\n",
    "print('Array n dinmension', arr_array.ndim)"
   ]
  },
  {
   "cell_type": "code",
   "execution_count": 51,
   "id": "94629431",
   "metadata": {},
   "outputs": [
    {
     "name": "stdout",
     "output_type": "stream",
     "text": [
      "[2.   2.75 3.5  4.25 5.  ]\n"
     ]
    }
   ],
   "source": [
    "#numpy linspace : is for generating numbers in range and divide into equal interval\n",
    "arr = np.linspace(2,5,5)\n",
    "print(arr)\n",
    "print(arr.size)"
   ]
  },
  {
   "cell_type": "code",
   "execution_count": 57,
   "id": "da6a58fc",
   "metadata": {},
   "outputs": [
    {
     "name": "stdout",
     "output_type": "stream",
     "text": [
      "[[1. 1. 1.]\n",
      " [1. 1. 1.]]\n",
      "[0. 0. 0. 0. 0. 0. 0. 0. 0. 0.]\n"
     ]
    }
   ],
   "source": [
    "# ones_array = np.ones(10)\n",
    "# print(ones_array)\n",
    "\n",
    "ones_array = np.ones(6)\n",
    "print(ones_array.reshape(2,3))\n",
    "\n",
    "zeros_array =  np.zeros(10)\n",
    "print(zeros_array)"
   ]
  },
  {
   "cell_type": "code",
   "execution_count": 59,
   "id": "5db8d715",
   "metadata": {},
   "outputs": [
    {
     "name": "stdout",
     "output_type": "stream",
     "text": [
      "[ 2  3  4  5  6  7  8  9 10 11 12 13 14 15 16 17 18 19]\n",
      "[ 2  3  4  5  6  7  8  9 10 11 12 13 14 15 16 17 18 19 40]\n",
      "[ 2  3  4  5  6  7  8  9 10 11 12 13 14 15 16 17 19]\n"
     ]
    }
   ],
   "source": [
    "array = np.arange(2,20) #the number of items\n",
    "print(array)\n",
    "\n",
    "aray1=np.append(array, 40) #to add 40\n",
    "print(aray1)\n",
    "\n",
    "aray1=np.delete(array, -2) #delete\n",
    "print(aray1)\n",
    "\n"
   ]
  },
  {
   "cell_type": "code",
   "execution_count": 66,
   "id": "d3f6d887",
   "metadata": {},
   "outputs": [
    {
     "name": "stdout",
     "output_type": "stream",
     "text": [
      "[0.12368988 0.27059436 0.41152754 0.08934457 0.46051932 0.29464785\n",
      " 0.14098709 0.15998148 0.10977047 0.79972994]\n",
      "[0.08934457 0.10977047 0.12368988 0.14098709 0.15998148 0.27059436\n",
      " 0.29464785 0.41152754 0.46051932 0.79972994]\n",
      "to generate random numbers\n",
      "random number 75.01\n"
     ]
    }
   ],
   "source": [
    "array_random = np.random.rand(10)\n",
    "print(array_random)\n",
    "sorted_array = np.sort(array_random)\n",
    "print(sorted_array)\n",
    "\n",
    "print(\"to generate random numbers\")\n",
    "random_item = np.random.random()\n",
    "print(\"random number\", round(random_item * 100,2))#to generate random number"
   ]
  },
  {
   "cell_type": "code",
   "execution_count": 68,
   "id": "b064fc2e",
   "metadata": {},
   "outputs": [
    {
     "name": "stdout",
     "output_type": "stream",
     "text": [
      "[[0.72118781 0.99271083 0.44677223 0.46070726]\n",
      " [0.64691249 0.74193363 0.40934717 0.03774271]\n",
      " [0.82103776 0.18377027 0.69693383 0.75515251]]\n",
      "[[7.21187806 9.92710835 4.46772226 4.60707264]\n",
      " [6.46912486 7.41933631 4.09347168 0.37742705]\n",
      " [8.21037761 1.83770271 6.96933831 7.5515251 ]]\n"
     ]
    }
   ],
   "source": [
    "array_random = np.random.rand(3,4)\n",
    "print(array_random)\n",
    "array_random = array_random * 10\n",
    "print(array_random)"
   ]
  },
  {
   "cell_type": "code",
   "execution_count": 71,
   "id": "8dd81f7e",
   "metadata": {},
   "outputs": [
    {
     "name": "stdout",
     "output_type": "stream",
     "text": [
      "************\n",
      "array_a [[1 2 3]\n",
      " [4 5 6]\n",
      " [7 8 9]]\n",
      "array_b [[11 12 13]\n",
      " [14 15 16]\n",
      " [17 18 19]]\n",
      "array_c: [[12 14 16]\n",
      " [18 20 22]\n",
      " [24 26 28]]\n"
     ]
    }
   ],
   "source": [
    "array_a = np.arange(1, 10)\n",
    "array_b = np.arange(11, 20)\n",
    "\n",
    "#reshape\n",
    "array_a = array_a.reshape(3,3)\n",
    "array_b = array_b.reshape(3,3)\n",
    "print('************')\n",
    "print('array_a', array_a)\n",
    "print('array_b', array_b)\n",
    "array_c = array_b + array_a\n",
    "print(\"array_c:\", array_c)"
   ]
  },
  {
   "cell_type": "code",
   "execution_count": null,
   "id": "0cb0c9c3",
   "metadata": {},
   "outputs": [],
   "source": []
  }
 ],
 "metadata": {
  "kernelspec": {
   "display_name": "Python 3 (ipykernel)",
   "language": "python",
   "name": "python3"
  },
  "language_info": {
   "codemirror_mode": {
    "name": "ipython",
    "version": 3
   },
   "file_extension": ".py",
   "mimetype": "text/x-python",
   "name": "python",
   "nbconvert_exporter": "python",
   "pygments_lexer": "ipython3",
   "version": "3.11.3"
  }
 },
 "nbformat": 4,
 "nbformat_minor": 5
}
