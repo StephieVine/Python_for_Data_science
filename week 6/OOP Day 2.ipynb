{
 "cells": [
  {
   "cell_type": "code",
   "execution_count": 63,
   "id": "61a18a08",
   "metadata": {},
   "outputs": [
    {
     "name": "stdout",
     "output_type": "stream",
     "text": [
      "I change my gear 5 times\n",
      "Car color: Black\n",
      "Car model: es350\n"
     ]
    }
   ],
   "source": [
    "class Vehicle: #parent class\n",
    "    sterring_shape = 'Circle'\n",
    "    def __init__(self, no_of_wheels, color):\n",
    "        self.no_of_wheels = no_of_wheels\n",
    "        self.color = color\n",
    "        return\n",
    "    def startEngine(self):\n",
    "        print(\"The car is ready to move\")\n",
    "        return\n",
    "    def accelerate(self, no_of_gears):\n",
    "        print(\"I change my gear\", no_of_gears, \"times\")\n",
    "        return\n",
    "    \n",
    "class Car(Vehicle): #child class\n",
    "    def __init__(self, no_of_wheels, color, make, model, year):\n",
    "        super().__init__(no_of_wheels, color)\n",
    "        self.make = make\n",
    "        self.model = model\n",
    "        self.year = year\n",
    "        return\n",
    "    def getinfo(self):\n",
    "#         super().startEngine()\n",
    "        print(\"Car color:\", self.color)\n",
    "        print(\"Car model:\", self.model)\n",
    "        return\n",
    "    def accelerate(self, no_of_gears):\n",
    "        super().accelerate(no_of_gears)\n",
    "#         print(\"I am a car, I change my gear\", no_of_gears, 'times')\n",
    "        \n",
    "car1 = Car(4, \"Black\", \"Honda\", \"CRV\", 2010)\n",
    "car1.accelerate(5)\n",
    "car2 = Car(4,\"Black\", \"Lexus\", \"es350\", 2010)\n",
    "car2.getinfo()\n",
    "\n",
    "# vh=Vehicle(4, \"Orange\")\n",
    "# vh.startEngine()\n",
    "# vh.accelerate(6)"
   ]
  },
  {
   "cell_type": "code",
   "execution_count": 15,
   "id": "e4b4f5b2",
   "metadata": {},
   "outputs": [
    {
     "name": "stdout",
     "output_type": "stream",
     "text": [
      "Tweet\n",
      "I have wings to fly\n",
      "I can walk or fly\n",
      "***************************\n",
      "I make whispering sounds\n",
      "I can only crawl\n"
     ]
    }
   ],
   "source": [
    "class Animal:\n",
    "    def talk(self):\n",
    "        print(\"I can talk\")\n",
    "        return\n",
    "    def move(self):\n",
    "        print(\"I can move\")\n",
    "        return\n",
    "class Bird(Animal): #hiearachical inheritance\n",
    "    def talk(self):\n",
    "        print(\"Tweet\")\n",
    "        return\n",
    "    def move(self):\n",
    "        print(\"I can walk or fly\")\n",
    "        return\n",
    "    def fly(self):\n",
    "        print(\"I have wings to fly\")\n",
    "        return\n",
    "class Snake(Animal):  #hiearachical inheritance\n",
    "    def talk(self):\n",
    "        print(\"I make whispering sounds\")\n",
    "        return\n",
    "    def move(self):\n",
    "        print(\"I can only crawl\")\n",
    "        return\n",
    "    \n",
    "sparrow = Bird()\n",
    "sparrow.talk()\n",
    "sparrow.fly()\n",
    "sparrow.move()\n",
    "\n",
    "python = Snake()\n",
    "python.talk()\n",
    "python\n",
    "    \n",
    "    "
   ]
  },
  {
   "cell_type": "code",
   "execution_count": 55,
   "id": "b4669dd9",
   "metadata": {},
   "outputs": [
    {
     "name": "stdout",
     "output_type": "stream",
     "text": [
      "I am a dog, I like to walk\n",
      "I am a dog, I like to talk\n"
     ]
    }
   ],
   "source": [
    "class Animal: #parent class\n",
    "    def __init__(self, walk, talk):\n",
    "        self.talk = talk\n",
    "        self.walk = walk\n",
    "        return\n",
    "\n",
    "    def walk(self):\n",
    "        print(\"I am a dog, I like to walk\")\n",
    "        return\n",
    "    \n",
    "    def talk(self):\n",
    "        print(\"I am a dog, I like to talk\")\n",
    "        return\n",
    "\n",
    "class Dog(Animal): #child class\n",
    "    def __init__(self, walk, talk):\n",
    "#         super().talk()\n",
    "        return\n",
    "    \n",
    "    def talk(self):\n",
    "        super().talk()\n",
    "        return\n",
    "    \n",
    "# chihuahua=Dog(\"walk\", \"talk\")\n",
    "# chihuahua.walk()\n",
    "# chihuahua.talk()\n",
    "\n",
    "class Bulldog(Dog):\n",
    "    def __init__(self, walk, talk):\n",
    "        super().__init__(walk, talk)\n",
    "        return\n",
    "    \n",
    "bdog = Bulldog(\"walk\", \"talk\")\n",
    "bdog.walk()\n",
    "bdog.talk()"
   ]
  },
  {
   "cell_type": "code",
   "execution_count": 61,
   "id": "57f4a82e",
   "metadata": {},
   "outputs": [
    {
     "name": "stdout",
     "output_type": "stream",
     "text": [
      "Name: steph\n",
      "Age: 10\n",
      "Sex: Female\n"
     ]
    },
    {
     "data": {
      "text/plain": [
       "<__main__.Person at 0x25a7363a2d0>"
      ]
     },
     "execution_count": 61,
     "metadata": {},
     "output_type": "execute_result"
    }
   ],
   "source": [
    "# pip3 install multipledispatch\n",
    "from multipledispatch import dispatch\n",
    "#method overloading\n",
    "class Person:\n",
    "    sex = \"male\"\n",
    "    age = 10\n",
    "    def __init__(self, name):\n",
    "        self.name = name\n",
    "        return\n",
    "    def getInfo(self):\n",
    "        print(\"Name:\", self.name)\n",
    "        print(\"Age:\", self.age)\n",
    "        print(\"Sex:\", self.sex)\n",
    "        return self\n",
    "    @dispatch(str, int)\n",
    "    def setInfo(self, sex, age):\n",
    "        self.sex = sex\n",
    "        self.age = age\n",
    "        return\n",
    "    @dispatch(str)\n",
    "    def setInfo(self, sex):\n",
    "        self.sex = sex\n",
    "        return\n",
    "    \n",
    "person1 = Person(\"steph\")\n",
    "person1.setInfo(\"Female\") #changing male to female\n",
    "person1.getInfo()"
   ]
  },
  {
   "cell_type": "code",
   "execution_count": null,
   "id": "908c47fb",
   "metadata": {},
   "outputs": [],
   "source": []
  }
 ],
 "metadata": {
  "kernelspec": {
   "display_name": "Python 3 (ipykernel)",
   "language": "python",
   "name": "python3"
  },
  "language_info": {
   "codemirror_mode": {
    "name": "ipython",
    "version": 3
   },
   "file_extension": ".py",
   "mimetype": "text/x-python",
   "name": "python",
   "nbconvert_exporter": "python",
   "pygments_lexer": "ipython3",
   "version": "3.11.3"
  }
 },
 "nbformat": 4,
 "nbformat_minor": 5
}
