{
 "cells": [
  {
   "cell_type": "code",
   "execution_count": 8,
   "id": "934cb68f",
   "metadata": {},
   "outputs": [
    {
     "name": "stdout",
     "output_type": "stream",
     "text": [
      "I can't walk\n",
      "yay, I can talk\n"
     ]
    }
   ],
   "source": [
    "class Animal:\n",
    "    def walk(self, legs):\n",
    "        if legs >= 2:\n",
    "            print(\"I can walk\")\n",
    "        else:\n",
    "            print(\"I can't walk\")\n",
    "        return\n",
    "    def talk(self):\n",
    "        print(\"yay, I can talk\")\n",
    "        return\n",
    "dog = Animal()\n",
    "goat = Animal()\n",
    "dog.walk(1)\n",
    "dog.talk()"
   ]
  },
  {
   "cell_type": "code",
   "execution_count": 15,
   "id": "bfd10cd2",
   "metadata": {},
   "outputs": [
    {
     "name": "stdout",
     "output_type": "stream",
     "text": [
      "executed the __init__ method\n",
      "car color: red\n",
      "car make: honda\n",
      "car model Civic\n",
      "year manuactured: 2008\n",
      "*******************************************\n",
      "executed the __init__ method\n",
      "car color: Black\n",
      "car make: Jac\n",
      "car model JS5\n",
      "year manuactured: 2023\n",
      "******************************\n",
      "True\n",
      "******************************\n",
      "Circle\n"
     ]
    }
   ],
   "source": [
    "class Car(object):\n",
    "    has_engine = True\n",
    "    sterring_shape = 'Circle'\n",
    "    def __init__(self, color, make, model, year): #constructor\n",
    "        self.color = color\n",
    "        self.make = make\n",
    "        self.model = model\n",
    "        self.year = year\n",
    "        print(\"executed the __init__ method\")\n",
    "        return\n",
    "    def getinfo(self):\n",
    "        print('car color:', self.color)\n",
    "        print(\"car make:\", self.make)\n",
    "        print('car model', self.model)\n",
    "        print('year manuactured:', self.year)\n",
    "        return\n",
    "    def setinfo(self, color, make, model, year):\n",
    "        self.color = color\n",
    "        sel.make = make\n",
    "        self.model = model\n",
    "        self.year = year\n",
    "        print('executed the setInfo method')\n",
    "        return\n",
    "    \n",
    "car1 = Car(\"red\", 'honda', 'Civic', 2008)\n",
    "car1.getinfo()\n",
    "print('*******************************************')\n",
    "car2 = Car(\"Black\", \"Jac\", 'JS5', 2023)\n",
    "car2.getinfo()\n",
    "print(\"******************************\")\n",
    "print(car1.has_engine)\n",
    "print(\"******************************\")\n",
    "print(car1.sterring_shape)"
   ]
  },
  {
   "cell_type": "code",
   "execution_count": 16,
   "id": "ada89006",
   "metadata": {},
   "outputs": [
    {
     "name": "stdout",
     "output_type": "stream",
     "text": [
      "[3, 8]\n"
     ]
    }
   ],
   "source": [
    "list1 = list()\n",
    "list1.append(3)\n",
    "list1.append(8)\n",
    "list1.sort()\n",
    "print(list1)"
   ]
  },
  {
   "cell_type": "code",
   "execution_count": null,
   "id": "34489d5b",
   "metadata": {},
   "outputs": [],
   "source": [
    "class Person:\n",
    "    def __init__(self, talk, model, year): #constructor\n",
    "        self.color = color\n",
    "        self.make = make\n",
    "        self.model = model\n",
    "        self.year = year\n",
    "        print(\"executed the __init__ method\")\n",
    "        return\n",
    "    def getinfo(self):\n",
    "        print('car color:', self.color)\n",
    "        print(\"car make:\", self.make)\n",
    "        print('car model', self.model)\n",
    "        print('year manuactured:', self.year)\n",
    "        return\n",
    "    def setinfo(self, color, make, model, year):\n",
    "        self.color = color\n",
    "        sel.make = make\n",
    "        self.model = model\n",
    "        self.year = year\n",
    "        print('executed the setInfo method')\n",
    "        return"
   ]
  },
  {
   "cell_type": "code",
   "execution_count": 25,
   "id": "947db1b4",
   "metadata": {},
   "outputs": [
    {
     "name": "stdout",
     "output_type": "stream",
     "text": [
      "Talk\n",
      "Jump\n",
      "shout\n"
     ]
    }
   ],
   "source": [
    "class Person(object):\n",
    "    def person(self, persons):\n",
    "        if persons == \"mouth\":\n",
    "            print(\"Talk\")\n",
    "        elif persons == 'Exercise':\n",
    "            print(\"Jump\")\n",
    "        elif persons == 'noise':\n",
    "            print('shout')\n",
    "        else:\n",
    "            print(\"Behaviour on point\")\n",
    "        return\n",
    "human_characteristics = Person()\n",
    "human_characteristics.person(\"mouth\")\n",
    "human_characteristics.person(\"Exercise\")\n",
    "human_characteristics.person(\"noise\")\n"
   ]
  },
  {
   "cell_type": "code",
   "execution_count": 26,
   "id": "4e27a518",
   "metadata": {},
   "outputs": [
    {
     "name": "stdout",
     "output_type": "stream",
     "text": [
      "I can talk\n",
      "Yay!, I can jump\n",
      "I am shouting\n"
     ]
    }
   ],
   "source": [
    "#create a person class that has the followng behavious: talk, jump, shout,\n",
    "class Person:\n",
    "    def talk(self):\n",
    "        print(\"I can talk\")\n",
    "        return\n",
    "    def jump(self, legs):\n",
    "        if legs > 1:\n",
    "            print(\"Yay!, I can jump\")\n",
    "        else:\n",
    "            print(\"sad!, I can't jump\")\n",
    "        return\n",
    "    def shout(self):\n",
    "        print(\"I am shouting\")\n",
    "        return\n",
    "john = Person()\n",
    "john.talk()\n",
    "john.jump(2)\n",
    "john.shout()"
   ]
  },
  {
   "cell_type": "code",
   "execution_count": 27,
   "id": "5f8578e5",
   "metadata": {},
   "outputs": [
    {
     "name": "stdout",
     "output_type": "stream",
     "text": [
      "Withdrawal successful\n",
      "Current balance 5000\n"
     ]
    }
   ],
   "source": [
    "class BankCustomer:\n",
    "    def __init__(self, name, balance=1000):\n",
    "        self.nm = name\n",
    "        self.bal = balance\n",
    "        return\n",
    "    def deposit(self, amount):\n",
    "        self.bal += amount\n",
    "        return\n",
    "    def withdraw(self, amount):\n",
    "        if amount > self.bal:\n",
    "            return \"Insuficient balance\"\n",
    "        else:\n",
    "            self.bal -= amount\n",
    "            return \"Withdrawal successful\"\n",
    "    def checkBalance(self):\n",
    "        return self.bal\n",
    "    \n",
    "cust1 = BankCustomer(\"Sam\", 10000)\n",
    "withdrawal_response = cust1.withdraw(5000)\n",
    "print(withdrawal_response)\n",
    "bal = cust1.checkBalance()\n",
    "print(\"Current balance\", bal)\n",
    "    "
   ]
  },
  {
   "cell_type": "code",
   "execution_count": null,
   "id": "85e653b2",
   "metadata": {},
   "outputs": [],
   "source": []
  }
 ],
 "metadata": {
  "kernelspec": {
   "display_name": "Python 3 (ipykernel)",
   "language": "python",
   "name": "python3"
  },
  "language_info": {
   "codemirror_mode": {
    "name": "ipython",
    "version": 3
   },
   "file_extension": ".py",
   "mimetype": "text/x-python",
   "name": "python",
   "nbconvert_exporter": "python",
   "pygments_lexer": "ipython3",
   "version": "3.11.3"
  }
 },
 "nbformat": 4,
 "nbformat_minor": 5
}
