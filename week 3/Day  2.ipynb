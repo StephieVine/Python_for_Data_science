{
 "cells": [
  {
   "cell_type": "code",
   "execution_count": 29,
   "id": "939d0810",
   "metadata": {},
   "outputs": [
    {
     "name": "stdout",
     "output_type": "stream",
     "text": [
      "B is of lenghth = 1\n",
      "a is of lenghth = 1\n",
      "n is of lenghth = 1\n",
      "a is of lenghth = 1\n",
      "n is of lenghth = 1\n",
      "a is of lenghth = 1\n",
      "*******************************************************\n",
      "*******************************************************\n",
      "Cashew is of length = 6\n",
      "Orange is of length = 6\n",
      "Banana is of length = 6\n",
      "Strawberry is of length = 10\n",
      "Mango is of length = 5\n",
      "Blueberry is of length = 9\n"
     ]
    }
   ],
   "source": [
    "fruit = 'Banana'\n",
    "for item in fruit:\n",
    "    print(item, 'is of lenghth =', len(item))\n",
    "print(\"*******************************************************\")\n",
    "print(\"*******************************************************\")\n",
    "fruit_list = ['Cashew', 'Orange', \"Banana\", \"Strawberry\", 'Mango', 'Blueberry']\n",
    "for fruit in fruit_list:\n",
    "    print(fruit, \"is of length =\", len(fruit))"
   ]
  },
  {
   "cell_type": "code",
   "execution_count": 6,
   "id": "4029c16a",
   "metadata": {},
   "outputs": [
    {
     "name": "stdout",
     "output_type": "stream",
     "text": [
      "2 squared = 4\n",
      "4 squared = 16\n",
      "6 squared = 36\n",
      "8 squared = 64\n",
      "10 squared = 100\n",
      "12 squared = 144\n",
      "14 squared = 196\n",
      "16 squared = 256\n",
      "18 squared = 324\n",
      "20 squared = 400\n",
      "22 squared = 484\n",
      "24 squared = 576\n",
      "26 squared = 676\n",
      "28 squared = 784\n",
      "30 squared = 900\n"
     ]
    }
   ],
   "source": [
    "#sequence of numbers that can be handled with range functions\n",
    "for number in range(2, 31, 2):\n",
    "    print(number, 'squared =', number*number)"
   ]
  },
  {
   "cell_type": "code",
   "execution_count": 2,
   "id": "3ac20ec9",
   "metadata": {},
   "outputs": [
    {
     "name": "stdout",
     "output_type": "stream",
     "text": [
      "The count is: 0\n",
      "The count is: 1\n",
      "The count is: 2\n",
      "The count is: 3\n",
      "The count is: 4\n",
      "The count is: 5\n",
      "The count is: 6\n",
      "The count is: 7\n",
      "The count is: 8\n",
      "Goodbye\n"
     ]
    }
   ],
   "source": [
    "count = 0\n",
    "while(count < 9):\n",
    "    print('The count is:', count)\n",
    "    count = count + 1\n",
    "print(\"Goodbye\")"
   ]
  },
  {
   "cell_type": "code",
   "execution_count": 16,
   "id": "3c57f684",
   "metadata": {},
   "outputs": [
    {
     "name": "stdout",
     "output_type": "stream",
     "text": [
      "count is at 0\n",
      "count is at 1\n",
      "count is at 2\n",
      "count is at 3\n",
      "count is at 4\n",
      "count is at 5\n",
      "count is at 6\n",
      "count is at 7\n",
      "count is at 8\n",
      "count is at 9\n",
      "We are done\n"
     ]
    }
   ],
   "source": [
    "#when you don't set a break condition with a while loop\n",
    "count = 0 #declare the variable\n",
    "break_point = 9\n",
    "while  (count < break_point): #break condition\n",
    "    print(\"count is at\", count)\n",
    "    count += 1\n",
    "print('We are done')"
   ]
  },
  {
   "cell_type": "code",
   "execution_count": 20,
   "id": "41ca35f1",
   "metadata": {},
   "outputs": [
    {
     "name": "stdout",
     "output_type": "stream",
     "text": [
      "banana\n",
      "Beans\n",
      "Watermelon\n",
      "Cashew\n",
      "Mango\n",
      "raspberry\n",
      "The end\n"
     ]
    }
   ],
   "source": [
    "fruit = ['banana', 'Beans', 'Watermelon', 'Cashew', 'Mango', \"raspberry\"]\n",
    "index = 0\n",
    "length = len(fruit)\n",
    "while (index < length):\n",
    "    print(fruit[index])\n",
    "    index += 1\n",
    "print(\"The end\")\n",
    "\n"
   ]
  },
  {
   "cell_type": "code",
   "execution_count": 1,
   "id": "b5d40f56",
   "metadata": {},
   "outputs": [
    {
     "name": "stdout",
     "output_type": "stream",
     "text": [
      "2 squared =  4\n",
      "8 squared =  64\n",
      "12 squared =  144\n"
     ]
    }
   ],
   "source": [
    "#using conditionals in loop\n",
    "#printing only even numbers\n",
    "\n",
    "number_list = [2, 3, 5, 8, 12, 7]\n",
    "for x in number_list:\n",
    "    square = x**2\n",
    "    if (square%2 == 0): #if it divides without remainder\n",
    "        print(x, 'squared = ', square)\n",
    "        "
   ]
  },
  {
   "cell_type": "code",
   "execution_count": 24,
   "id": "ec0d643a",
   "metadata": {},
   "outputs": [
    {
     "name": "stdout",
     "output_type": "stream",
     "text": [
      "for 1\n",
      "1 x 6 = 6\n",
      "1 x 7 = 7\n",
      "1 x 8 = 8\n",
      "1 x 9 = 9\n",
      "1 x 10 = 10\n",
      "for 2\n",
      "2 x 6 = 12\n",
      "2 x 7 = 14\n",
      "2 x 8 = 16\n",
      "2 x 9 = 18\n",
      "2 x 10 = 20\n",
      "for 3\n",
      "3 x 6 = 18\n",
      "3 x 7 = 21\n",
      "3 x 8 = 24\n",
      "3 x 9 = 27\n",
      "3 x 10 = 30\n",
      "for 4\n",
      "4 x 6 = 24\n",
      "4 x 7 = 28\n",
      "4 x 8 = 32\n",
      "4 x 9 = 36\n",
      "4 x 10 = 40\n",
      "for 5\n",
      "5 x 6 = 30\n",
      "5 x 7 = 35\n",
      "5 x 8 = 40\n",
      "5 x 9 = 45\n",
      "5 x 10 = 50\n"
     ]
    }
   ],
   "source": [
    "#nested loop\n",
    "num_list1= [1,2,3,4,5]\n",
    "num_list2= [6,7,8,9,10]\n",
    "for x in num_list1:\n",
    "    print(\"for\", x)\n",
    "    for y in num_list2:\n",
    "        print(x, \"x\", y, '=', x*y)"
   ]
  },
  {
   "cell_type": "code",
   "execution_count": 26,
   "id": "af7acdcb",
   "metadata": {},
   "outputs": [
    {
     "name": "stdout",
     "output_type": "stream",
     "text": [
      "for 1\n",
      "1 x 1 = 1\n",
      "1 x 2 = 2\n",
      "1 x 3 = 3\n",
      "1 x 4 = 4\n",
      "1 x 5 = 5\n",
      "1 x 6 = 6\n",
      "1 x 7 = 7\n",
      "1 x 8 = 8\n",
      "1 x 9 = 9\n",
      "1 x 10 = 10\n",
      "1 x 11 = 11\n",
      "for 2\n",
      "2 x 1 = 2\n",
      "2 x 2 = 4\n",
      "2 x 3 = 6\n",
      "2 x 4 = 8\n",
      "2 x 5 = 10\n",
      "2 x 6 = 12\n",
      "2 x 7 = 14\n",
      "2 x 8 = 16\n",
      "2 x 9 = 18\n",
      "2 x 10 = 20\n",
      "2 x 11 = 22\n",
      "for 3\n",
      "3 x 1 = 3\n",
      "3 x 2 = 6\n",
      "3 x 3 = 9\n",
      "3 x 4 = 12\n",
      "3 x 5 = 15\n",
      "3 x 6 = 18\n",
      "3 x 7 = 21\n",
      "3 x 8 = 24\n",
      "3 x 9 = 27\n",
      "3 x 10 = 30\n",
      "3 x 11 = 33\n",
      "for 4\n",
      "4 x 1 = 4\n",
      "4 x 2 = 8\n",
      "4 x 3 = 12\n",
      "4 x 4 = 16\n",
      "4 x 5 = 20\n",
      "4 x 6 = 24\n",
      "4 x 7 = 28\n",
      "4 x 8 = 32\n",
      "4 x 9 = 36\n",
      "4 x 10 = 40\n",
      "4 x 11 = 44\n",
      "for 5\n",
      "5 x 1 = 5\n",
      "5 x 2 = 10\n",
      "5 x 3 = 15\n",
      "5 x 4 = 20\n",
      "5 x 5 = 25\n",
      "5 x 6 = 30\n",
      "5 x 7 = 35\n",
      "5 x 8 = 40\n",
      "5 x 9 = 45\n",
      "5 x 10 = 50\n",
      "5 x 11 = 55\n",
      "for 6\n",
      "6 x 1 = 6\n",
      "6 x 2 = 12\n",
      "6 x 3 = 18\n",
      "6 x 4 = 24\n",
      "6 x 5 = 30\n",
      "6 x 6 = 36\n",
      "6 x 7 = 42\n",
      "6 x 8 = 48\n",
      "6 x 9 = 54\n",
      "6 x 10 = 60\n",
      "6 x 11 = 66\n",
      "for 7\n",
      "7 x 1 = 7\n",
      "7 x 2 = 14\n",
      "7 x 3 = 21\n",
      "7 x 4 = 28\n",
      "7 x 5 = 35\n",
      "7 x 6 = 42\n",
      "7 x 7 = 49\n",
      "7 x 8 = 56\n",
      "7 x 9 = 63\n",
      "7 x 10 = 70\n",
      "7 x 11 = 77\n",
      "for 8\n",
      "8 x 1 = 8\n",
      "8 x 2 = 16\n",
      "8 x 3 = 24\n",
      "8 x 4 = 32\n",
      "8 x 5 = 40\n",
      "8 x 6 = 48\n",
      "8 x 7 = 56\n",
      "8 x 8 = 64\n",
      "8 x 9 = 72\n",
      "8 x 10 = 80\n",
      "8 x 11 = 88\n",
      "for 9\n",
      "9 x 1 = 9\n",
      "9 x 2 = 18\n",
      "9 x 3 = 27\n",
      "9 x 4 = 36\n",
      "9 x 5 = 45\n",
      "9 x 6 = 54\n",
      "9 x 7 = 63\n",
      "9 x 8 = 72\n",
      "9 x 9 = 81\n",
      "9 x 10 = 90\n",
      "9 x 11 = 99\n",
      "for 10\n",
      "10 x 1 = 10\n",
      "10 x 2 = 20\n",
      "10 x 3 = 30\n",
      "10 x 4 = 40\n",
      "10 x 5 = 50\n",
      "10 x 6 = 60\n",
      "10 x 7 = 70\n",
      "10 x 8 = 80\n",
      "10 x 9 = 90\n",
      "10 x 10 = 100\n",
      "10 x 11 = 110\n",
      "for 11\n",
      "11 x 1 = 11\n",
      "11 x 2 = 22\n",
      "11 x 3 = 33\n",
      "11 x 4 = 44\n",
      "11 x 5 = 55\n",
      "11 x 6 = 66\n",
      "11 x 7 = 77\n",
      "11 x 8 = 88\n",
      "11 x 9 = 99\n",
      "11 x 10 = 110\n",
      "11 x 11 = 121\n"
     ]
    }
   ],
   "source": [
    "#nested loop\n",
    "num_list1= range(1,12)\n",
    "num_list2= range(1,12)\n",
    "for x in num_list1:\n",
    "    print(\"for\", x)\n",
    "    for y in num_list2:\n",
    "        print(x, \"x\", y, '=', x*y)"
   ]
  },
  {
   "cell_type": "code",
   "execution_count": 32,
   "id": "c0e8ca98",
   "metadata": {},
   "outputs": [
    {
     "name": "stdout",
     "output_type": "stream",
     "text": [
      "cows\n"
     ]
    }
   ],
   "source": [
    "#using break statement in a loop #breaks execution out of the loop\n",
    "animals = [\"cows\", 'goat', 'dog', 'cat']\n",
    "for animal in animals:\n",
    "    if animal == 'goat':\n",
    "        break\n",
    "    print(animal)"
   ]
  },
  {
   "cell_type": "code",
   "execution_count": 31,
   "id": "b2060a7f",
   "metadata": {},
   "outputs": [
    {
     "name": "stdout",
     "output_type": "stream",
     "text": [
      "cows\n",
      "dog\n",
      "cat\n"
     ]
    }
   ],
   "source": [
    "#using continue statement in a loop #it skips that statement then continues with the actual figure\n",
    "animals = [\"cows\", 'goat', 'dog', 'cat']\n",
    "for animal in animals:\n",
    "    if animal == 'goat':\n",
    "        continue\n",
    "    print(animal)"
   ]
  },
  {
   "cell_type": "code",
   "execution_count": null,
   "id": "15311853",
   "metadata": {},
   "outputs": [],
   "source": []
  }
 ],
 "metadata": {
  "kernelspec": {
   "display_name": "Python 3 (ipykernel)",
   "language": "python",
   "name": "python3"
  },
  "language_info": {
   "codemirror_mode": {
    "name": "ipython",
    "version": 3
   },
   "file_extension": ".py",
   "mimetype": "text/x-python",
   "name": "python",
   "nbconvert_exporter": "python",
   "pygments_lexer": "ipython3",
   "version": "3.11.3"
  }
 },
 "nbformat": 4,
 "nbformat_minor": 5
}
