{
 "cells": [
  {
   "cell_type": "code",
   "execution_count": 3,
   "id": "451ee25b",
   "metadata": {},
   "outputs": [
    {
     "name": "stdout",
     "output_type": "stream",
     "text": [
      "I\n",
      "G\n",
      "G\n",
      "***************************************\n",
      "16\n",
      "**************************************\n",
      "-16\n",
      "***************************\n",
      "k\n"
     ]
    }
   ],
   "source": [
    "str_iterable = \"Geeks for GeeksI\"\n",
    "last_item = str_iterable[-1]\n",
    "print(last_item) #last item\n",
    "print(str_iterable[0]) #first item thats 0\n",
    "print(str_iterable[-len(str_iterable)]) #still getting first item\n",
    "print(\"***************************************\")\n",
    "print(len(str_iterable))\n",
    "print(\"**************************************\")\n",
    "print(-len(str_iterable))\n",
    "print(\"***************************\")\n",
    "print(str_iterable[3])"
   ]
  },
  {
   "cell_type": "code",
   "execution_count": 5,
   "id": "b067a461",
   "metadata": {},
   "outputs": [
    {
     "name": "stdout",
     "output_type": "stream",
     "text": [
      "Ade\n",
      "***********************\n",
      "Kola\n",
      "***********************\n",
      "70\n",
      "***********************\n",
      "Ade\n"
     ]
    }
   ],
   "source": [
    "#list\n",
    "list_iterable = ['Simi', 'Kola', '50', '70', 'Ade'] #every item sepeatd by comma as an item\n",
    "last_item = list_iterable[-1]\n",
    "print(last_item)\n",
    "print(\"***********************\")\n",
    "print(list_iterable[1])\n",
    "print(\"***********************\")\n",
    "print(list_iterable[3])\n",
    "print(\"***********************\")\n",
    "print(list_iterable[4]) "
   ]
  },
  {
   "cell_type": "code",
   "execution_count": 11,
   "id": "0710ee25",
   "metadata": {},
   "outputs": [
    {
     "name": "stdout",
     "output_type": "stream",
     "text": [
      "for GeeksI\n",
      "fo\n",
      "for\n",
      "*********************************\n",
      "for\n",
      "***************\n",
      "s for\n",
      "['Kola', '50', '70', 'Ade', 'Sam', 'Joel', 'Sonia', 'Ayo']\n",
      "['Kola', '50', '70']\n",
      "['Kola', '70']\n"
     ]
    }
   ],
   "source": [
    "str_iterable = \"Geeks for GeeksI\"\n",
    "\n",
    "\n",
    "sliced_str = str_iterable[6:] #from 6 up to the last item\n",
    "print(sliced_str)\n",
    "sliced_str1 = str_iterable[6:8] #this would subtract 1 -1\n",
    "print(sliced_str1)\n",
    "sliced_str2 = str_iterable[6:9] #plus 1 to get the actual result\n",
    "print(sliced_str2)\n",
    "print(\"*********************************\")\n",
    "sliced_str3 = str_iterable[-10:9]\n",
    "print(sliced_str3)\n",
    "print(\"***************\")\n",
    "sliced_str4 = str_iterable[-12:9]\n",
    "print(sliced_str4)\n",
    "\n",
    "#list\n",
    "list_iterable = ['Simi', 'Kola', '50', '70', 'Ade', 'Sam', 'Joel', 'Sonia', 'Ayo']\n",
    "print(list_iterable[1:])\n",
    "print(list_iterable[1:4]) #-1\n",
    "print(list_iterable[1:5:2])"
   ]
  },
  {
   "cell_type": "code",
   "execution_count": null,
   "id": "fb2418be",
   "metadata": {},
   "outputs": [],
   "source": [
    "#workin wiht conditionals\n",
    "score = float(input(\"Please input your score\"))\n",
    "\n",
    "print(type(score))\n"
   ]
  },
  {
   "cell_type": "code",
   "execution_count": null,
   "id": "22c5b256",
   "metadata": {},
   "outputs": [],
   "source": [
    "score2 = int(input(\"Please input your score\"))\n",
    "print(type(score2))"
   ]
  },
  {
   "cell_type": "code",
   "execution_count": 16,
   "id": "40e683f4",
   "metadata": {},
   "outputs": [
    {
     "name": "stdout",
     "output_type": "stream",
     "text": [
      "Please input your exam score:90\n",
      "Excellent\n"
     ]
    }
   ],
   "source": [
    "#working with conditinals\n",
    "score = float(input(\"Please input your exam score:\"))\n",
    "if score < 0:\n",
    "    print(\"INvalid score\")\n",
    "elif score <= 30:\n",
    "    print(\"Fail\")\n",
    "elif score <= 50:\n",
    "    print(\"Pass\")\n",
    "else:\n",
    "    print(\"Excellent\")"
   ]
  },
  {
   "cell_type": "code",
   "execution_count": 18,
   "id": "6e9db6d6",
   "metadata": {},
   "outputs": [
    {
     "name": "stdout",
     "output_type": "stream",
     "text": [
      "Please input your exam score:50\n",
      "Ok - D\n"
     ]
    }
   ],
   "source": [
    "#working with conditionals\n",
    "score = float(input(\"Please input your exam score:\"))\n",
    "if score < 0:\n",
    "    print(\"Invalid score\")\n",
    "elif score <= 30:\n",
    "    print(\"Fail - F\")\n",
    "elif score > 30 and score < 41:\n",
    "    print(\"Fair - E\")\n",
    "elif score > 40 and score < 51:\n",
    "    print(\"Ok - D\")\n",
    "elif score > 50 and score < 61:\n",
    "    print(\"Good - C\")\n",
    "elif score > 60 and score < 71:\n",
    "    print(\"Very Good - B\")\n",
    "else:\n",
    "    print(\"Excellent - A\")"
   ]
  },
  {
   "cell_type": "code",
   "execution_count": null,
   "id": "6a1a04c7",
   "metadata": {},
   "outputs": [],
   "source": [
    "#exercise\n",
    "temperature = int(input(\"What is the temperature?\"))\n",
    "if temperature < 0:\n",
    "    print(\"Invalid\")\n",
    "elif temperature > 0 and temperature < 20:\n",
    "    print(\"Mild\")\n",
    "elif temperature > 21 and temperature < 50:\n",
    "    print(\"Severe\")\n",
    "else:\n",
    "    print(\"Critical\")"
   ]
  },
  {
   "cell_type": "code",
   "execution_count": null,
   "id": "cb2937ff",
   "metadata": {},
   "outputs": [],
   "source": []
  }
 ],
 "metadata": {
  "kernelspec": {
   "display_name": "Python 3 (ipykernel)",
   "language": "python",
   "name": "python3"
  },
  "language_info": {
   "codemirror_mode": {
    "name": "ipython",
    "version": 3
   },
   "file_extension": ".py",
   "mimetype": "text/x-python",
   "name": "python",
   "nbconvert_exporter": "python",
   "pygments_lexer": "ipython3",
   "version": "3.11.3"
  }
 },
 "nbformat": 4,
 "nbformat_minor": 5
}
