{
 "cells": [
  {
   "cell_type": "code",
   "execution_count": 2,
   "id": "dda7c3af",
   "metadata": {},
   "outputs": [
    {
     "name": "stdout",
     "output_type": "stream",
     "text": [
      "c= 90 \n",
      "d= 10 \n",
      "e= 10\n",
      "False\n",
      "True\n"
     ]
    }
   ],
   "source": [
    "a = 35\n",
    "b = 45\n",
    "c = a+b\n",
    "d = b-a\n",
    "e = a*b\n",
    "c +=d\n",
    "\n",
    "print(\"c=\", c,\"\\nd=\", d, \"\\ne=\", d)\n",
    "print(a==b)\n",
    "print(a!=b)"
   ]
  },
  {
   "cell_type": "code",
   "execution_count": 14,
   "id": "42eef469",
   "metadata": {},
   "outputs": [
    {
     "name": "stdout",
     "output_type": "stream",
     "text": [
      "name is of type <class 'str'>\n",
      "string_int is of type <class 'str'>\n",
      "a is of type <class 'int'>\n",
      "b is of type <class 'float'>\n",
      "c is of type <class 'list'>\n",
      "f is of type <class 'list'>\n",
      "e is of type <class 'complex'>\n",
      "****************************************\n",
      "d is of type <class 'set'>\n",
      "g is of type <class 'tuple'>\n",
      "h is of type <class 'dict'>\n"
     ]
    }
   ],
   "source": [
    "#data types\n",
    "name = \"David Olaniyi\"\n",
    "string_int = '45'\n",
    "a = 30\n",
    "b = 40.4\n",
    "c = [1,3,4]\n",
    "f = ['Steph', 'Jeremy', 'Damon', 'Stefan']\n",
    "e = complex(3,2) #3+2i\n",
    "d = {'Steph', 'Jeremy', 'Damon', 'Stefan'}\n",
    "g = ('Steph', 'Jeremy', 'Damon', 'Stefan')\n",
    "h = {\"name\": 'Damon', 'Age':5, \"Location\":\"Lagos\"}\n",
    "\n",
    "print('name is of type', type(name))\n",
    "print(\"string_int is of type\", type(string_int))\n",
    "print('a is of type', type(a))\n",
    "print('b is of type', type(b))\n",
    "print('c is of type', type(c))\n",
    "# print('d is of type', type(d))\n",
    "print('f is of type', type(f))\n",
    "print('e is of type', type(e))\n",
    "print(\"****************************************\")\n",
    "print('d is of type', type(d))\n",
    "print('g is of type', type(g))\n",
    "print('h is of type', type(h))"
   ]
  },
  {
   "cell_type": "code",
   "execution_count": 15,
   "id": "16b579bd",
   "metadata": {},
   "outputs": [
    {
     "name": "stdout",
     "output_type": "stream",
     "text": [
      "name is of type <class 'str'>\n",
      "Float _type is of type <class 'float'>\n",
      "list_type is of type <class 'list'>\n",
      "Dictionary_type is of type <class 'dict'>\n"
     ]
    }
   ],
   "source": [
    "String_type = \"Hello\"\n",
    "float_type = 70.3\n",
    "list_type= [40, 30, 20]\n",
    "dictionary_type= {\"String_type\": 'Steph', 'Telephone':90003333, \"Destination\":\"Nigeria\"}\n",
    "\n",
    "print('name is of type', type(String_type))\n",
    "print(\"Float _type is of type\", type(float_type))\n",
    "print(\"list_type is of type\", type(list_type))\n",
    "print(\"Dictionary_type is of type\", type(dictionary_type))"
   ]
  },
  {
   "cell_type": "code",
   "execution_count": null,
   "id": "dda06a92",
   "metadata": {},
   "outputs": [],
   "source": []
  }
 ],
 "metadata": {
  "kernelspec": {
   "display_name": "Python 3 (ipykernel)",
   "language": "python",
   "name": "python3"
  },
  "language_info": {
   "codemirror_mode": {
    "name": "ipython",
    "version": 3
   },
   "file_extension": ".py",
   "mimetype": "text/x-python",
   "name": "python",
   "nbconvert_exporter": "python",
   "pygments_lexer": "ipython3",
   "version": "3.11.3"
  }
 },
 "nbformat": 4,
 "nbformat_minor": 5
}
