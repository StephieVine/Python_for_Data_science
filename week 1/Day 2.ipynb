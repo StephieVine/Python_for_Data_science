{
 "cells": [
  {
   "cell_type": "code",
   "execution_count": 2,
   "id": "a52ba05b",
   "metadata": {},
   "outputs": [
    {
     "name": "stdout",
     "output_type": "stream",
     "text": [
      "writing into file completed\n"
     ]
    }
   ],
   "source": [
    "#writing to a file\n",
    "file_obj = open(\"file_io_document.txt\", \"w\")\n",
    "file_obj.write(\"\\n New text 1\")\n",
    "file_obj.write(\"\\n New text 2\")\n",
    "file_obj.write(\"\\n New text 3\")\n",
    "file_obj.close()\n",
    "print(\"writing into file completed\")"
   ]
  },
  {
   "cell_type": "code",
   "execution_count": 3,
   "id": "36a42a01",
   "metadata": {
    "scrolled": true
   },
   "outputs": [
    {
     "name": "stdout",
     "output_type": "stream",
     "text": [
      "\n",
      " New text 1\n",
      " New text 2\n",
      " New text 3\n"
     ]
    }
   ],
   "source": [
    "file_obj = open(\"file_io_document.txt\", \"r\")\n",
    "new_text = file_obj.read()\n",
    "file_obj.close()\n",
    "print(new_text)"
   ]
  },
  {
   "cell_type": "code",
   "execution_count": 4,
   "id": "e62024f3",
   "metadata": {},
   "outputs": [
    {
     "name": "stdout",
     "output_type": "stream",
     "text": [
      "writing into file completed\n"
     ]
    }
   ],
   "source": [
    "#witing to a file using append mode\n",
    "file_obj = open(\"file_io_document.txt\", \"a\")\n",
    "file_obj.write(\"\\n New text 1\")\n",
    "file_obj.write(\"\\n New text 2\")\n",
    "file_obj.write(\"\\n New text 3\")\n",
    "file_obj.close()\n",
    "print(\"writing into file completed\")"
   ]
  },
  {
   "cell_type": "code",
   "execution_count": 5,
   "id": "deb857ae",
   "metadata": {},
   "outputs": [
    {
     "name": "stdout",
     "output_type": "stream",
     "text": [
      "\n",
      " New text 1\n",
      " New text 2\n",
      " New text 3\n",
      " New text 1\n",
      " New text 2\n",
      " New text 3\n"
     ]
    }
   ],
   "source": [
    "file_obj = open(\"file_io_document.txt\", \"r\")\n",
    "new_text = file_obj.read()\n",
    "file_obj.close()\n",
    "print(new_text)"
   ]
  },
  {
   "cell_type": "code",
   "execution_count": 5,
   "id": "ce9d1e5e",
   "metadata": {},
   "outputs": [
    {
     "name": "stdout",
     "output_type": "stream",
     "text": [
      "writing into file completed\n",
      "\n",
      " New text 1\n",
      " New text 2\n",
      " New text 3\n",
      " New text 1\n",
      " New text 2\n",
      " New text 3\n",
      " Append+ New text 1\n",
      " Append+ New text 2\n",
      " Append+ New text 3\n",
      " Append+ New text 1\n",
      " Append+ New text 2\n",
      " Append+ New text 3\n",
      " Append+ New text 1\n",
      " Append+ New text 2\n",
      " Append+ New text 3\n",
      " Append+ New text 1\n",
      " Append+ New text 2\n",
      " Append+ New text 3\n",
      " Append+ New text 1\n",
      " Append+ New text 2\n",
      " Append+ New text 3\n"
     ]
    }
   ],
   "source": [
    "#witing to a file using append mode\n",
    "file_obj = open(\"file_io_document.txt\", \"a+\")\n",
    "file_obj.write(\"\\n Append+ New text 1\") #writing a new line\n",
    "file_obj.write(\"\\n Append+ New text 2\")\n",
    "file_obj.write(\"\\n Append+ New text 3\")\n",
    "print(\"writing into file completed\")\n",
    "file_obj.seek(0) #makes the file available for reading\n",
    "text = file_obj.read() #reading\n",
    "file_obj.close() #close after reading\n",
    "print(text)"
   ]
  },
  {
   "cell_type": "code",
   "execution_count": null,
   "id": "2d0cec7a",
   "metadata": {},
   "outputs": [],
   "source": []
  }
 ],
 "metadata": {
  "kernelspec": {
   "display_name": "Python 3 (ipykernel)",
   "language": "python",
   "name": "python3"
  },
  "language_info": {
   "codemirror_mode": {
    "name": "ipython",
    "version": 3
   },
   "file_extension": ".py",
   "mimetype": "text/x-python",
   "name": "python",
   "nbconvert_exporter": "python",
   "pygments_lexer": "ipython3",
   "version": "3.11.3"
  }
 },
 "nbformat": 4,
 "nbformat_minor": 5
}
