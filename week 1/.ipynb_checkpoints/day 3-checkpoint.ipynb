{
 "cells": [
  {
   "cell_type": "code",
   "execution_count": 2,
   "id": "7143657c",
   "metadata": {},
   "outputs": [
    {
     "name": "stdout",
     "output_type": "stream",
     "text": [
      "c= 90 \n",
      "d= 10 \n",
      "e= 10\n",
      "False\n",
      "True\n"
     ]
    }
   ],
   "source": [
    "a = 35\n",
    "b = 45\n",
    "c = a+b\n",
    "d = b-a\n",
    "e = a*b\n",
    "c +=d\n",
    "\n",
    "print(\"c=\", c,\"\\nd=\", d, \"\\ne=\", d)\n",
    "print(a==b)\n",
    "print(a!=b)"
   ]
  },
  {
   "cell_type": "code",
   "execution_count": null,
   "id": "13da0c66",
   "metadata": {},
   "outputs": [],
   "source": []
  }
 ],
 "metadata": {
  "kernelspec": {
   "display_name": "Python 3 (ipykernel)",
   "language": "python",
   "name": "python3"
  },
  "language_info": {
   "codemirror_mode": {
    "name": "ipython",
    "version": 3
   },
   "file_extension": ".py",
   "mimetype": "text/x-python",
   "name": "python",
   "nbconvert_exporter": "python",
   "pygments_lexer": "ipython3",
   "version": "3.11.3"
  }
 },
 "nbformat": 4,
 "nbformat_minor": 5
}
