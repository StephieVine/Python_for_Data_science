{
 "cells": [
  {
   "cell_type": "code",
   "execution_count": 2,
   "id": "8cd4fe52",
   "metadata": {},
   "outputs": [
    {
     "name": "stdout",
     "output_type": "stream",
     "text": [
      "Help on function addnumbers in module __main__:\n",
      "\n",
      "addnumbers(num1, num2)\n",
      "    This function returns the sum of 2 numbers\n",
      "\n"
     ]
    },
    {
     "data": {
      "text/plain": [
       "'This function returns the sum of 2 numbers'"
      ]
     },
     "execution_count": 2,
     "metadata": {},
     "output_type": "execute_result"
    }
   ],
   "source": [
    "def addnumbers(num1, num2):\n",
    "    \"\"\"This function returns the sum of 2 numbers\"\"\"\n",
    "    summed_value = num1 + num2\n",
    "    return summed_value\n",
    "\n",
    "help(addnumbers)\n",
    "\n",
    "addnumbers.__doc__\n",
    "\n"
   ]
  },
  {
   "cell_type": "code",
   "execution_count": null,
   "id": "bb1f41b6",
   "metadata": {},
   "outputs": [],
   "source": [
    "num = 1\n",
    "while n >= 1:\n",
    "    "
   ]
  },
  {
   "cell_type": "code",
   "execution_count": 4,
   "id": "35ce5c82",
   "metadata": {},
   "outputs": [
    {
     "name": "stdout",
     "output_type": "stream",
     "text": [
      "720\n"
     ]
    }
   ],
   "source": [
    "def factorial_iterative(n):\n",
    "    num = 1\n",
    "    while n >= 1:\n",
    "        num = num * n\n",
    "        n = n-1\n",
    "    return num\n",
    "factorial = factorial_iterative(6)\n",
    "print(factorial)"
   ]
  },
  {
   "cell_type": "code",
   "execution_count": 11,
   "id": "fbcb6392",
   "metadata": {},
   "outputs": [
    {
     "name": "stdout",
     "output_type": "stream",
     "text": [
      "[6, 9, 11, 14]\n"
     ]
    }
   ],
   "source": [
    "list1 = [2,3,4,5]\n",
    "list2 = [4,6,7,9]\n",
    "result = [6,9,11,14]\n",
    "\n",
    "def add_list(list_a,list_b):\n",
    "    \"\"\"addition list\"\"\"\n",
    "    length = len(list_a) #to get the lenghth first\n",
    "    if length != len(list_b):\n",
    "        return \"Error: the length of both list must be the same\"\n",
    "    result_list = [] #empty list to append\n",
    "    for i in range(length):\n",
    "        item = list_a[i] + list_b[i]\n",
    "        result = result_list.append(item)\n",
    "    return result_list\n",
    "new_list = add_list(list1,list2)\n",
    "# print(add_list(list1,list2))\n",
    "print(new_list)\n"
   ]
  },
  {
   "cell_type": "code",
   "execution_count": 26,
   "id": "21bdb84a",
   "metadata": {},
   "outputs": [
    {
     "name": "stdout",
     "output_type": "stream",
     "text": [
      "54\n"
     ]
    }
   ],
   "source": [
    "# class work\n",
    "# Define a function that returns the sum of squares of each item in a list, and call the function with a sample list.\n",
    "list1 = [2,3,4,5]\n",
    "def sumofsquare(list_a):\n",
    "    sum_of_squares = 0\n",
    "    for item in list_a:\n",
    "        sum_of_squares += item*item\n",
    "    return sum_of_squares\n",
    "print(sumofsquare(list1))"
   ]
  },
  {
   "cell_type": "code",
   "execution_count": 33,
   "id": "9acb6a25",
   "metadata": {},
   "outputs": [
    {
     "name": "stdout",
     "output_type": "stream",
     "text": [
      "Name: same\n",
      "Age: 21\n",
      "None\n"
     ]
    }
   ],
   "source": [
    "def printinfo(name, age=21):\n",
    "    print(\"Name:\", name)\n",
    "    print(\"Age:\", age)\n",
    "    return\n",
    "print(printinfo(\"same\"))"
   ]
  },
  {
   "cell_type": "code",
   "execution_count": 37,
   "id": "04807718",
   "metadata": {},
   "outputs": [
    {
     "name": "stdout",
     "output_type": "stream",
     "text": [
      "(50, 60, 70)\n",
      "Name: Joel\n",
      "Gender: Female\n",
      "Total score: 180\n"
     ]
    }
   ],
   "source": [
    "#functions with variable length arument\n",
    "#to get a total of scores inputed in \n",
    "def scoreTotal(name, gender, *scores):\n",
    "    print(scores)\n",
    "    print(\"Name:\", name)\n",
    "    print(\"Gender:\", gender)\n",
    "    total = 0\n",
    "    for score in scores:\n",
    "        total += score\n",
    "    print(\"Total score:\", total)\n",
    "    return\n",
    "scoreTotal(\"Joel\",'Female', 50, 60, 70)"
   ]
  },
  {
   "cell_type": "code",
   "execution_count": 40,
   "id": "b3b315c0",
   "metadata": {},
   "outputs": [
    {
     "name": "stdout",
     "output_type": "stream",
     "text": [
      "{'param1': 50, 'param2': 50, 'param3': 'Lagos'}\n",
      "param1 50\n",
      "param2 50\n",
      "param3 Lagos\n",
      "[70, 60, 50, 40]\n"
     ]
    }
   ],
   "source": [
    "#funnction with keyword arguement\n",
    "def kw_args_function(**args):\n",
    "    print(args)\n",
    "    for key, value in args.items():\n",
    "        print(key, value)\n",
    "    return\n",
    "kw_args_function(param1=50, param2=50, param3=\"Lagos\")\n",
    "\n",
    "list1 = [40,50,60,70]\n",
    "list1.sort(reverse=True)\n",
    "print(list1)"
   ]
  },
  {
   "cell_type": "code",
   "execution_count": 49,
   "id": "652d851f",
   "metadata": {},
   "outputs": [
    {
     "name": "stdout",
     "output_type": "stream",
     "text": [
      "student's info {'Subject': 'Chemistry', 'score': 50}\n",
      "Subject Chemistry\n",
      "score 50\n"
     ]
    }
   ],
   "source": [
    "#Define a function that accepts keyword (subject and score) keyword argument of students' score, \n",
    "# print out each subject and the corresponding score.\n",
    "\n",
    "def kw_args_function(**args):\n",
    "    print(\"student\\'s info\", args)\n",
    "    for subject, score in args.items():\n",
    "        print(subject, score)\n",
    "    return\n",
    "kw_args_function(Subject=\"Chemistry\", score=50)\n"
   ]
  },
  {
   "cell_type": "code",
   "execution_count": null,
   "id": "cbae1bb7",
   "metadata": {},
   "outputs": [],
   "source": []
  }
 ],
 "metadata": {
  "kernelspec": {
   "display_name": "Python 3 (ipykernel)",
   "language": "python",
   "name": "python3"
  },
  "language_info": {
   "codemirror_mode": {
    "name": "ipython",
    "version": 3
   },
   "file_extension": ".py",
   "mimetype": "text/x-python",
   "name": "python",
   "nbconvert_exporter": "python",
   "pygments_lexer": "ipython3",
   "version": "3.11.3"
  }
 },
 "nbformat": 4,
 "nbformat_minor": 5
}
