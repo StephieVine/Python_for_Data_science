{
 "cells": [
  {
   "cell_type": "code",
   "execution_count": 8,
   "id": "a4bc24a4",
   "metadata": {},
   "outputs": [
    {
     "name": "stdout",
     "output_type": "stream",
     "text": [
      "total outside the function 0\n",
      "total before declaration 0\n",
      "Total within function 15\n"
     ]
    }
   ],
   "source": [
    "#global and variable function\n",
    "\n",
    "total = 0\n",
    "\n",
    "def sumnumbers(num1, num2):\n",
    "    global total\n",
    "    print(\"total before declaration\", total)\n",
    "    total = num1 + num2\n",
    "    print(\"Total within function\", total)\n",
    "    return\n",
    "print('total outside the function', total)\n",
    "sumnumbers(6,9)"
   ]
  },
  {
   "cell_type": "code",
   "execution_count": 8,
   "id": "6a4c81e3",
   "metadata": {},
   "outputs": [
    {
     "name": "stdout",
     "output_type": "stream",
     "text": [
      "720\n"
     ]
    }
   ],
   "source": [
    "def factorial_sol(n):\n",
    "    if n<=1:\n",
    "        return 1\n",
    "    else:\n",
    "        return n*factorial_sol(n-1)\n",
    "\n",
    "\n",
    "n = 6\n",
    "print(factorial_sol(n))    "
   ]
  },
  {
   "cell_type": "code",
   "execution_count": 11,
   "id": "f0d43010",
   "metadata": {},
   "outputs": [
    {
     "name": "stdout",
     "output_type": "stream",
     "text": [
      "120\n",
      "120\n"
     ]
    }
   ],
   "source": [
    "#iterative version\n",
    "def factoria_iter(n):\n",
    "    if n <= 1:\n",
    "        return 1\n",
    "    total = 1\n",
    "    while n >=1:\n",
    "        total=total * n\n",
    "        n = n - 1\n",
    "    return total\n",
    "\n",
    "# recursive version for factorial\n",
    "def factorial_recur(n):\n",
    "    if n <=1:\n",
    "        return 1\n",
    "    total = n * factorial_recur(n-1)\n",
    "    return total\n",
    "\n",
    "print(factoria_iter(5))\n",
    "print(factorial_recur(5))"
   ]
  },
  {
   "cell_type": "code",
   "execution_count": 14,
   "id": "ca2e9d08",
   "metadata": {},
   "outputs": [
    {
     "name": "stdout",
     "output_type": "stream",
     "text": [
      "1\n",
      "2\n",
      "4\n",
      "4\n",
      "5\n",
      "7\n",
      "4\n",
      "2\n",
      "6\n",
      "4\n",
      "8\n",
      "9\n",
      "Steph\n",
      "5\n",
      "8\n",
      "8\n",
      "5\n",
      "First\n",
      "Jenny\n"
     ]
    }
   ],
   "source": [
    "#extracting a list using recursive function\n",
    "list1 = [1, 2, 4,[4, 5, 7,[4, 2, 6,[4, 8, 9, 'Steph']]], 5,8,(8,5), {\"First\":50}, 'Jenny']\n",
    "def extract_items_recur(list_input):\n",
    "    for item in list_input:\n",
    "        if type(item) in [list, tuple, dict]:\n",
    "            extract_items_recur(item)\n",
    "        else:\n",
    "            print(item)\n",
    "    return\n",
    "extract_items_recur(list1)"
   ]
  },
  {
   "cell_type": "code",
   "execution_count": 16,
   "id": "92e6e4b0",
   "metadata": {},
   "outputs": [
    {
     "name": "stdout",
     "output_type": "stream",
     "text": [
      "[25, 49, 64]\n"
     ]
    }
   ],
   "source": [
    "def squareNum(number):\n",
    "    return number**2\n",
    "\n",
    "list_a = [5, 7, 8]\n",
    "mapped_list = map(squareNum, list_a)\n",
    "print(list(mapped_list))"
   ]
  },
  {
   "cell_type": "code",
   "execution_count": 17,
   "id": "5159c931",
   "metadata": {},
   "outputs": [
    {
     "name": "stdout",
     "output_type": "stream",
     "text": [
      "['20', '30', '60']\n",
      "[20, 30, 60]\n"
     ]
    }
   ],
   "source": [
    "def castToInt(str_int):\n",
    "    return int(str_int)\n",
    "\n",
    "list_b = [\"20\", \"30\", \"60\"]\n",
    "print(list_b)\n",
    "map_list = map(castToInt, list_b)\n",
    "\n",
    "print(list(map_list))"
   ]
  },
  {
   "cell_type": "code",
   "execution_count": 19,
   "id": "d8792a65",
   "metadata": {},
   "outputs": [
    {
     "name": "stdout",
     "output_type": "stream",
     "text": [
      "Enter scores sepated by comma: e.g 50, 60, 7060,90,90\n",
      "<class 'str'>\n",
      "['60', '90', '90']\n",
      "[60, 90, 90]\n"
     ]
    }
   ],
   "source": [
    "def castToInt(str_int):\n",
    "    return int(str_int)\n",
    "\n",
    "values = input(\"Enter scores sepated by comma: e.g 50, 60, 70\")\n",
    "print(type(values))\n",
    "values_splitted = values.split(\",\")\n",
    "print(values_splitted)\n",
    "casted_list = map(castToInt, values_splitted)\n",
    "print(list(casted_list))\n"
   ]
  },
  {
   "cell_type": "code",
   "execution_count": 9,
   "id": "345ae0be",
   "metadata": {},
   "outputs": [
    {
     "name": "stdout",
     "output_type": "stream",
     "text": [
      "[25, 49, 64]\n",
      "Enter your values seperated by semicolumn: eg 90; 60; 40;89; 70; 67\n",
      "<class 'str'>\n"
     ]
    },
    {
     "ename": "AttributeError",
     "evalue": "'str' object has no attribute 'sum'",
     "output_type": "error",
     "traceback": [
      "\u001b[1;31m---------------------------------------------------------------------------\u001b[0m",
      "\u001b[1;31mAttributeError\u001b[0m                            Traceback (most recent call last)",
      "Cell \u001b[1;32mIn[9], line 18\u001b[0m\n\u001b[0;32m     16\u001b[0m values \u001b[38;5;241m=\u001b[39m \u001b[38;5;28minput\u001b[39m(\u001b[38;5;124m\"\u001b[39m\u001b[38;5;124mEnter your values seperated by semicolumn: eg 90; 60; 40;\u001b[39m\u001b[38;5;124m\"\u001b[39m)\n\u001b[0;32m     17\u001b[0m \u001b[38;5;28mprint\u001b[39m(\u001b[38;5;28mtype\u001b[39m(values))\n\u001b[1;32m---> 18\u001b[0m values_sum \u001b[38;5;241m=\u001b[39m values\u001b[38;5;241m.\u001b[39msum(values)\n\u001b[0;32m     19\u001b[0m \u001b[38;5;28mprint\u001b[39m(values_sum)\n\u001b[0;32m     22\u001b[0m casted_values \u001b[38;5;241m=\u001b[39m \u001b[38;5;28mmap\u001b[39m(castToInt, values_sum)\n",
      "\u001b[1;31mAttributeError\u001b[0m: 'str' object has no attribute 'sum'"
     ]
    }
   ],
   "source": [
    "# write a program that collects integer values separated by semicolumn (;) from the standard input device,\n",
    "# calculate the sum and average of the values collected.\n",
    "def squareNum(number):\n",
    "    return number**2\n",
    "\n",
    "list_a = [5, 7, 8]\n",
    "mapped_list = map(squareNum, list_a)\n",
    "print(list(mapped_list))\n",
    "\n",
    "\n",
    "\n",
    "\n",
    "def castToInt(str_int):\n",
    "    return int(str_int)\n",
    "\n",
    "values = input(\"Enter your values seperated by semicolumn: eg 90; 60; 40;\")\n",
    "print(type(values))\n",
    "values_sum = values.sum(values)\n",
    "print(values_sum)\n",
    "\n",
    "\n",
    "casted_values = map(castToInt, values_sum)\n",
    "print(list(casted_values))\n",
    "\n",
    "\n",
    "\n"
   ]
  },
  {
   "cell_type": "code",
   "execution_count": 1,
   "id": "f1e3a423",
   "metadata": {},
   "outputs": [
    {
     "name": "stdout",
     "output_type": "stream",
     "text": [
      "Enter your values seperated by semicolumn: eg 90; 60; 40;67,78,90\n",
      "<class 'str'>\n"
     ]
    },
    {
     "ename": "AttributeError",
     "evalue": "'str' object has no attribute 'mean'",
     "output_type": "error",
     "traceback": [
      "\u001b[1;31m---------------------------------------------------------------------------\u001b[0m",
      "\u001b[1;31mAttributeError\u001b[0m                            Traceback (most recent call last)",
      "Cell \u001b[1;32mIn[1], line 4\u001b[0m\n\u001b[0;32m      2\u001b[0m values \u001b[38;5;241m=\u001b[39m \u001b[38;5;28minput\u001b[39m(\u001b[38;5;124m\"\u001b[39m\u001b[38;5;124mEnter your values seperated by semicolumn: eg 90; 60; 40;\u001b[39m\u001b[38;5;124m\"\u001b[39m)\n\u001b[0;32m      3\u001b[0m \u001b[38;5;28mprint\u001b[39m(\u001b[38;5;28mtype\u001b[39m(values))\n\u001b[1;32m----> 4\u001b[0m values_sum \u001b[38;5;241m=\u001b[39m values\u001b[38;5;241m.\u001b[39mmean()\n\u001b[0;32m      5\u001b[0m \u001b[38;5;28mprint\u001b[39m(values_sum)\n",
      "\u001b[1;31mAttributeError\u001b[0m: 'str' object has no attribute 'mean'"
     ]
    }
   ],
   "source": [
    "#avg\n",
    "values = input(\"Enter your values seperated by semicolumn: eg 90; 60; 40;\")\n",
    "print(type(values))\n",
    "values_sum = values.mean()\n",
    "print(values_sum)"
   ]
  },
  {
   "cell_type": "code",
   "execution_count": 2,
   "id": "0be40fb3",
   "metadata": {},
   "outputs": [
    {
     "name": "stdout",
     "output_type": "stream",
     "text": [
      "[4, 6, 8]\n"
     ]
    }
   ],
   "source": [
    "#filter\n",
    "#filtering either even or odd\n",
    "\n",
    "def even(num):\n",
    "    if num % 2 == 0:\n",
    "        return True\n",
    "    else:\n",
    "        return False\n",
    "    \n",
    "list_a = [4, 5, 6, 8, 9, 3, 7, 5]\n",
    "filtered = filter(even, list_a)\n",
    "print(list(filtered))"
   ]
  },
  {
   "cell_type": "code",
   "execution_count": 3,
   "id": "e4a72c86",
   "metadata": {},
   "outputs": [
    {
     "name": "stdout",
     "output_type": "stream",
     "text": [
      "[9, 25, 49, 64]\n"
     ]
    }
   ],
   "source": [
    "#worrking with lambda\n",
    "#square each item in a list using lambda\n",
    "\n",
    "list1 = [3, 5, 7, 8]\n",
    "list_map = map(lambda i:i**2, list1)\n",
    "print(list(list_map))"
   ]
  },
  {
   "cell_type": "code",
   "execution_count": 6,
   "id": "4aeff395",
   "metadata": {},
   "outputs": [
    {
     "name": "stdout",
     "output_type": "stream",
     "text": [
      "[28, 40, 54]\n"
     ]
    }
   ],
   "source": [
    "#add two list using lambda\n",
    "list1 = [4, 5, 6]\n",
    "list2 = [7, 8, 9]\n",
    "multiplied = map(lambda a,b: a*b, list1, list2)\n",
    "print(list(multiplied))"
   ]
  },
  {
   "cell_type": "code",
   "execution_count": null,
   "id": "27ed557a",
   "metadata": {},
   "outputs": [],
   "source": []
  }
 ],
 "metadata": {
  "kernelspec": {
   "display_name": "Python 3 (ipykernel)",
   "language": "python",
   "name": "python3"
  },
  "language_info": {
   "codemirror_mode": {
    "name": "ipython",
    "version": 3
   },
   "file_extension": ".py",
   "mimetype": "text/x-python",
   "name": "python",
   "nbconvert_exporter": "python",
   "pygments_lexer": "ipython3",
   "version": "3.11.3"
  }
 },
 "nbformat": 4,
 "nbformat_minor": 5
}
