{
 "cells": [
  {
   "cell_type": "code",
   "execution_count": 5,
   "id": "817ed77a",
   "metadata": {},
   "outputs": [
    {
     "name": "stdout",
     "output_type": "stream",
     "text": [
      "2.8284271247461903\n",
      "120\n",
      "31.41592653589793\n",
      "**********\n",
      "2023-09-16 18:25:08.836615\n",
      "*****************\n",
      "2023\n",
      "18\n",
      "25\n",
      "8\n",
      "(((((((())))))))\n",
      "202318258\n"
     ]
    }
   ],
   "source": [
    "import math, datetime, random\n",
    "\n",
    "print(math.sqrt(8))\n",
    "print(math.factorial(5))\n",
    "print(math.pi * 10)\n",
    "\n",
    "print(\"**********\")\n",
    "print(datetime.datetime.now())\n",
    "datetime = datetime.datetime.now()\n",
    "year = datetime.year\n",
    "hour = datetime.hour\n",
    "minute = datetime.minute\n",
    "second= datetime.second\n",
    "\n",
    "print(\"*****************\")\n",
    "print(year)\n",
    "print(hour)\n",
    "print(minute)\n",
    "print(second)\n",
    "\n",
    "#to get the date and time in string format\n",
    "print(\"(((((((())))))))\")\n",
    "print(str(year)+str(hour)+str(minute)+str(second))"
   ]
  }
 ],
 "metadata": {
  "kernelspec": {
   "display_name": "Python 3 (ipykernel)",
   "language": "python",
   "name": "python3"
  },
  "language_info": {
   "codemirror_mode": {
    "name": "ipython",
    "version": 3
   },
   "file_extension": ".py",
   "mimetype": "text/x-python",
   "name": "python",
   "nbconvert_exporter": "python",
   "pygments_lexer": "ipython3",
   "version": "3.11.3"
  }
 },
 "nbformat": 4,
 "nbformat_minor": 5
}
