{
 "cells": [
  {
   "cell_type": "code",
   "execution_count": 9,
   "id": "706b9b44",
   "metadata": {},
   "outputs": [
    {
     "name": "stdout",
     "output_type": "stream",
     "text": [
      "False\n",
      "True\n",
      "True\n",
      "True\n",
      "True\n",
      "False\n"
     ]
    }
   ],
   "source": [
    "#operations with comparison opeatators\n",
    "# ==, >, <, <=, >=, !=\n",
    "\n",
    "a = 5\n",
    "b = 3\n",
    "c = 20\n",
    "d = 5\n",
    "\n",
    "print(b>a)\n",
    "print(a <= c)\n",
    "#logical operators\n",
    "print(a >= b and a <= c)\n",
    "print(a > b or a > c)\n",
    "print(a!=b or a!=c) #not equal to\n",
    "print(a==d or a==c)#comparison\n"
   ]
  },
  {
   "cell_type": "code",
   "execution_count": 11,
   "id": "fd84b72d",
   "metadata": {},
   "outputs": [
    {
     "name": "stdout",
     "output_type": "stream",
     "text": [
      "300\n",
      "this type is <class 'list'>\n"
     ]
    }
   ],
   "source": [
    "a = [100, 200, 300]\n",
    "print(max(a))\n",
    "print('this type is', type(a))"
   ]
  },
  {
   "cell_type": "code",
   "execution_count": 15,
   "id": "10e71aaf",
   "metadata": {},
   "outputs": [
    {
     "name": "stdout",
     "output_type": "stream",
     "text": [
      "18.2\n",
      "0.5\n",
      "12\n",
      "45\n",
      "89.0\n"
     ]
    }
   ],
   "source": [
    "#abs built-in function\n",
    "a = -18.2\n",
    "b = abs(a)\n",
    "print(b)\n",
    "print(abs(-0.5))\n",
    "print(abs(12))\n",
    "print(abs(-45))\n",
    "print(abs(-89.0))"
   ]
  },
  {
   "cell_type": "code",
   "execution_count": 23,
   "id": "6258db5e",
   "metadata": {},
   "outputs": [
    {
     "name": "stdout",
     "output_type": "stream",
     "text": [
      "min score is 23\n",
      "max score is 80\n",
      "the lenght is 5\n"
     ]
    }
   ],
   "source": [
    "#max and min built-in functions\n",
    "scores = [40, 46, 60, 23, 80]\n",
    "min_score = min(scores)\n",
    "max_score = max(scores)\n",
    "print(\"min score is\", min_score)\n",
    "print('max score is', max_score)\n",
    "print(\"the lenght is\", len(scores))"
   ]
  },
  {
   "cell_type": "code",
   "execution_count": 25,
   "id": "1bd7e03b",
   "metadata": {},
   "outputs": [
    {
     "name": "stdout",
     "output_type": "stream",
     "text": [
      "the lenght is 8\n",
      "the length is 20\n",
      "the sum total is 1549\n",
      "193.625\n"
     ]
    }
   ],
   "source": [
    "#length built_in function\n",
    "scores = [40, 46, 60, 23, 80, 200, 400, 700]\n",
    "length = 'My name is Stephanie'\n",
    "print(\"the lenght is\", len(scores))\n",
    "print('the length is', len(length))\n",
    "print(\"the sum total is\", sum(scores)) #sum function\n",
    "print(sum(scores)/len(scores)) #mean function\n",
    "\n"
   ]
  },
  {
   "cell_type": "code",
   "execution_count": 28,
   "id": "17f3dfb5",
   "metadata": {},
   "outputs": [
    {
     "name": "stdout",
     "output_type": "stream",
     "text": [
      "my score is = 30\n",
      "<class 'str'>\n",
      "<class 'float'>\n",
      "50\n",
      "<class 'int'>\n"
     ]
    }
   ],
   "source": [
    "#concatenate (converting from integer to string)\n",
    "a = 30\n",
    "b = 'my score is = '\n",
    "c = b + str(a)\n",
    "print(c)\n",
    "print(type(str(a)))\n",
    "\n"
   ]
  },
  {
   "cell_type": "code",
   "execution_count": 34,
   "id": "5055577d",
   "metadata": {},
   "outputs": [
    {
     "name": "stdout",
     "output_type": "stream",
     "text": [
      "<class 'float'>\n",
      "50\n",
      "<class 'int'>\n"
     ]
    }
   ],
   "source": [
    "#converting from float to integer\n",
    "d = 50.7\n",
    "print(type(d))\n",
    "e = int(d)\n",
    "print(e)\n",
    "print(type(e))"
   ]
  },
  {
   "cell_type": "code",
   "execution_count": 39,
   "id": "545c39d9",
   "metadata": {},
   "outputs": [
    {
     "name": "stdout",
     "output_type": "stream",
     "text": [
      "num_range is =  [0, 1, 2, 3, 4, 5, 6, 7, 8, 9]\n",
      "num_range2 is =  [1, 2, 3, 4, 5, 6, 7, 8, 9]\n",
      "num_range3 is =  [1, 3, 5, 7, 9]\n",
      "num_range4 is =  [5, 6, 7, 8, 9, 10, 11, 12, 13, 14, 15, 16, 17, 18, 19, 20]\n"
     ]
    }
   ],
   "source": [
    "#range from 0 to 10 = 0,1,2,3,4,5,6,7,8,9\n",
    "n = 10\n",
    "start_point = 1\n",
    "step = 2\n",
    "\n",
    "num_range = range(n) #valaues from 0 to n-1\n",
    "num_range2 = range(start_point, n) #values from start_point to n-1 -1, 2,3,...9\n",
    "num_range3 = range(start_point, n, step) #values from start_point to n-1 -1,3,5,7,9\n",
    "num_range4 = range(5, 21)\n",
    "print(\"num_range is = \", list(num_range))\n",
    "print(\"num_range2 is = \", list(num_range2))\n",
    "print(\"num_range3 is = \", list(num_range3))\n",
    "print(\"num_range4 is = \", list(num_range4))"
   ]
  },
  {
   "cell_type": "code",
   "execution_count": 44,
   "id": "47848d87",
   "metadata": {},
   "outputs": [
    {
     "name": "stdout",
     "output_type": "stream",
     "text": [
      "stephanie\n",
      "STEPHANIE\n",
      "Stephanie\n",
      "STEPHANIE\n",
      "stephanie\n",
      "*************************************************8\n",
      "Python For Data Science\n"
     ]
    }
   ],
   "source": [
    "#lower, upper, strip, join, split\n",
    "name = 'STEPHANIE'\n",
    "name_lowercase = name.lower()\n",
    "name_uppercase = name.upper()\n",
    "print(name_lowercase)\n",
    "print(name_uppercase)\n",
    "print(name.capitalize())\n",
    "print(name.upper())\n",
    "print(name.lower())\n",
    "\n",
    "print('*************************************************')\n",
    "heading = 'Python for data science' #transforms every first letter in all the words into capitle letter\n",
    "\n",
    "print(heading.title())"
   ]
  },
  {
   "cell_type": "code",
   "execution_count": 52,
   "id": "1a24ae99",
   "metadata": {},
   "outputs": [
    {
     "name": "stdout",
     "output_type": "stream",
     "text": [
      "['Amos,Stephanie,Dayo,Nse,Aisa,Emmanuel']\n",
      "['Amos', 'Stephanie', 'Dayo', 'Nse', 'Aisa', 'Emmanuel']\n"
     ]
    }
   ],
   "source": [
    "#Join, Split\n",
    "mystring = \"Amos,Stephanie,Dayo,Nse,Aisa,Emmanuel\"\n",
    "combined_list = mystring.split(\" \")\n",
    "combined_list2 = mystring.split(\",\")\n",
    "print(combined_list)\n",
    "print(combined_list2)\n",
    "\n",
    "#using join() to transform a list to string\n",
    "joined_str = \" , \".join(combined_list)\n",
    "print(joined_str)"
   ]
  },
  {
   "cell_type": "code",
   "execution_count": null,
   "id": "237a4f57",
   "metadata": {},
   "outputs": [],
   "source": []
  },
  {
   "cell_type": "code",
   "execution_count": null,
   "id": "8253767c",
   "metadata": {},
   "outputs": [],
   "source": []
  }
 ],
 "metadata": {
  "kernelspec": {
   "display_name": "Python 3 (ipykernel)",
   "language": "python",
   "name": "python3"
  },
  "language_info": {
   "codemirror_mode": {
    "name": "ipython",
    "version": 3
   },
   "file_extension": ".py",
   "mimetype": "text/x-python",
   "name": "python",
   "nbconvert_exporter": "python",
   "pygments_lexer": "ipython3",
   "version": "3.11.3"
  }
 },
 "nbformat": 4,
 "nbformat_minor": 5
}
